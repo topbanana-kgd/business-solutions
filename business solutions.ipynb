{
 "cells": [
  {
   "cell_type": "markdown",
   "metadata": {},
   "source": [
    "<div>\n",
    "    <h2> Принятие решений в бизнесе <a class=\"tocSkip\"> </h2>\n",
    "\n",
    "Описание проекта:\n",
    "    В 1й части проекта наша задача приоритизировать 9 гипотез по увеличению выручки интернет-магазина\n",
    "        \n",
    "    Во второй части проекта будем проанализировать результаты проведенного А/В-тестирования и аргументировать принятые решения. Здесь будут изучены следующие метрики:\n",
    "        - кумулятивная выручка по группам\n",
    "        - кумулятивный средний чек по группам\n",
    "        - относительное изменение кумулятивного среднего чека группы В к группе А\n",
    "        - кумулятивное среднее количество заказов на посетителя по группам\n",
    "        - изменение кумулятивного среднего кол-ва заказов на посетителя группы В к группе А\n",
    "        - определение границ выбросов\n",
    "        - статистическая значимость различий в среднем чеке заказа между группами по сырым и очищенным данным\n",
    "        - статистическая значимость различий в среднем кол-ве заказов на посетителя между группами по сырым и очищенным данным\n",
    "    "
   ]
  },
  {
   "cell_type": "code",
   "execution_count": 1,
   "metadata": {},
   "outputs": [],
   "source": [
    "#импорт необходимых библиотек и инструментов\n",
    "import pandas as pd\n",
    "import scipy.stats as stats\n",
    "import datetime as dt\n",
    "import numpy as np\n",
    "import matplotlib.pyplot as plt"
   ]
  },
  {
   "cell_type": "code",
   "execution_count": 2,
   "metadata": {},
   "outputs": [],
   "source": [
    "try:\n",
    "    hypothesis = pd.read_csv('/datasets/hypothesis.csv')\n",
    "    orders = pd.read_csv('/datasets/orders.csv')\n",
    "    visitors = pd.read_csv('/datasets/visitors.csv')\n",
    "    \n",
    "except:\n",
    "    hypothesis = pd.read_csv('https://code.s3.yandex.net/datasets/hypothesis.csv')\n",
    "    orders = pd.read_csv('https://code.s3.yandex.net/datasets/orders.csv')\n",
    "    visitors = pd.read_csv('https://code.s3.yandex.net/datasets/visitors.csv')"
   ]
  },
  {
   "cell_type": "markdown",
   "metadata": {},
   "source": [
    "<div>\n",
    "    <h2> Часть первая. Приоритизация гипотез <a class=\"tocSkip\"> </h2>\n"
   ]
  },
  {
   "cell_type": "code",
   "execution_count": 3,
   "metadata": {
    "scrolled": true
   },
   "outputs": [
    {
     "data": {
      "text/html": [
       "<div>\n",
       "<style scoped>\n",
       "    .dataframe tbody tr th:only-of-type {\n",
       "        vertical-align: middle;\n",
       "    }\n",
       "\n",
       "    .dataframe tbody tr th {\n",
       "        vertical-align: top;\n",
       "    }\n",
       "\n",
       "    .dataframe thead th {\n",
       "        text-align: right;\n",
       "    }\n",
       "</style>\n",
       "<table border=\"1\" class=\"dataframe\">\n",
       "  <thead>\n",
       "    <tr style=\"text-align: right;\">\n",
       "      <th></th>\n",
       "      <th>Hypothesis</th>\n",
       "      <th>Reach</th>\n",
       "      <th>Impact</th>\n",
       "      <th>Confidence</th>\n",
       "      <th>Efforts</th>\n",
       "    </tr>\n",
       "  </thead>\n",
       "  <tbody>\n",
       "    <tr>\n",
       "      <th>0</th>\n",
       "      <td>Добавить два новых канала привлечения трафика, что позволит привлекать на 30% больше пользователей</td>\n",
       "      <td>3</td>\n",
       "      <td>10</td>\n",
       "      <td>8</td>\n",
       "      <td>6</td>\n",
       "    </tr>\n",
       "    <tr>\n",
       "      <th>1</th>\n",
       "      <td>Запустить собственную службу доставки, что сократит срок доставки заказов</td>\n",
       "      <td>2</td>\n",
       "      <td>5</td>\n",
       "      <td>4</td>\n",
       "      <td>10</td>\n",
       "    </tr>\n",
       "    <tr>\n",
       "      <th>2</th>\n",
       "      <td>Добавить блоки рекомендаций товаров на сайт интернет магазина, чтобы повысить конверсию и средний чек заказа</td>\n",
       "      <td>8</td>\n",
       "      <td>3</td>\n",
       "      <td>7</td>\n",
       "      <td>3</td>\n",
       "    </tr>\n",
       "    <tr>\n",
       "      <th>3</th>\n",
       "      <td>Изменить структура категорий, что увеличит конверсию, т.к. пользователи быстрее найдут нужный товар</td>\n",
       "      <td>8</td>\n",
       "      <td>3</td>\n",
       "      <td>3</td>\n",
       "      <td>8</td>\n",
       "    </tr>\n",
       "    <tr>\n",
       "      <th>4</th>\n",
       "      <td>Изменить цвет фона главной страницы, чтобы увеличить вовлеченность пользователей</td>\n",
       "      <td>3</td>\n",
       "      <td>1</td>\n",
       "      <td>1</td>\n",
       "      <td>1</td>\n",
       "    </tr>\n",
       "    <tr>\n",
       "      <th>5</th>\n",
       "      <td>Добавить страницу отзывов клиентов о магазине, что позволит увеличить количество заказов</td>\n",
       "      <td>3</td>\n",
       "      <td>2</td>\n",
       "      <td>2</td>\n",
       "      <td>3</td>\n",
       "    </tr>\n",
       "    <tr>\n",
       "      <th>6</th>\n",
       "      <td>Показать на главной странице баннеры с актуальными акциями и распродажами, чтобы увеличить конверсию</td>\n",
       "      <td>5</td>\n",
       "      <td>3</td>\n",
       "      <td>8</td>\n",
       "      <td>3</td>\n",
       "    </tr>\n",
       "    <tr>\n",
       "      <th>7</th>\n",
       "      <td>Добавить форму подписки на все основные страницы, чтобы собрать базу клиентов для email-рассылок</td>\n",
       "      <td>10</td>\n",
       "      <td>7</td>\n",
       "      <td>8</td>\n",
       "      <td>5</td>\n",
       "    </tr>\n",
       "    <tr>\n",
       "      <th>8</th>\n",
       "      <td>Запустить акцию, дающую скидку на товар в день рождения</td>\n",
       "      <td>1</td>\n",
       "      <td>9</td>\n",
       "      <td>9</td>\n",
       "      <td>5</td>\n",
       "    </tr>\n",
       "  </tbody>\n",
       "</table>\n",
       "</div>"
      ],
      "text/plain": [
       "                                                                                                     Hypothesis  \\\n",
       "0            Добавить два новых канала привлечения трафика, что позволит привлекать на 30% больше пользователей   \n",
       "1                                     Запустить собственную службу доставки, что сократит срок доставки заказов   \n",
       "2  Добавить блоки рекомендаций товаров на сайт интернет магазина, чтобы повысить конверсию и средний чек заказа   \n",
       "3           Изменить структура категорий, что увеличит конверсию, т.к. пользователи быстрее найдут нужный товар   \n",
       "4                              Изменить цвет фона главной страницы, чтобы увеличить вовлеченность пользователей   \n",
       "5                      Добавить страницу отзывов клиентов о магазине, что позволит увеличить количество заказов   \n",
       "6          Показать на главной странице баннеры с актуальными акциями и распродажами, чтобы увеличить конверсию   \n",
       "7              Добавить форму подписки на все основные страницы, чтобы собрать базу клиентов для email-рассылок   \n",
       "8                                                       Запустить акцию, дающую скидку на товар в день рождения   \n",
       "\n",
       "   Reach  Impact  Confidence  Efforts  \n",
       "0      3      10           8        6  \n",
       "1      2       5           4       10  \n",
       "2      8       3           7        3  \n",
       "3      8       3           3        8  \n",
       "4      3       1           1        1  \n",
       "5      3       2           2        3  \n",
       "6      5       3           8        3  \n",
       "7     10       7           8        5  \n",
       "8      1       9           9        5  "
      ]
     },
     "execution_count": 3,
     "metadata": {},
     "output_type": "execute_result"
    }
   ],
   "source": [
    "pd.set_option('display.max_colwidth', None)\n",
    "hypothesis"
   ]
  },
  {
   "cell_type": "code",
   "execution_count": 4,
   "metadata": {},
   "outputs": [],
   "source": [
    "#корректировка названий столбцов в соответствии с принятыми стандартами\n",
    "hypothesis.columns = map(str.lower, hypothesis.columns)"
   ]
  },
  {
   "cell_type": "code",
   "execution_count": 5,
   "metadata": {},
   "outputs": [
    {
     "data": {
      "text/html": [
       "<div>\n",
       "<style scoped>\n",
       "    .dataframe tbody tr th:only-of-type {\n",
       "        vertical-align: middle;\n",
       "    }\n",
       "\n",
       "    .dataframe tbody tr th {\n",
       "        vertical-align: top;\n",
       "    }\n",
       "\n",
       "    .dataframe thead th {\n",
       "        text-align: right;\n",
       "    }\n",
       "</style>\n",
       "<table border=\"1\" class=\"dataframe\">\n",
       "  <thead>\n",
       "    <tr style=\"text-align: right;\">\n",
       "      <th></th>\n",
       "      <th>hypothesis</th>\n",
       "      <th>reach</th>\n",
       "      <th>impact</th>\n",
       "      <th>confidence</th>\n",
       "      <th>efforts</th>\n",
       "      <th>ICE</th>\n",
       "    </tr>\n",
       "  </thead>\n",
       "  <tbody>\n",
       "    <tr>\n",
       "      <th>8</th>\n",
       "      <td>Запустить акцию, дающую скидку на товар в день рождения</td>\n",
       "      <td>1</td>\n",
       "      <td>9</td>\n",
       "      <td>9</td>\n",
       "      <td>5</td>\n",
       "      <td>16.20</td>\n",
       "    </tr>\n",
       "    <tr>\n",
       "      <th>0</th>\n",
       "      <td>Добавить два новых канала привлечения трафика, что позволит привлекать на 30% больше пользователей</td>\n",
       "      <td>3</td>\n",
       "      <td>10</td>\n",
       "      <td>8</td>\n",
       "      <td>6</td>\n",
       "      <td>13.33</td>\n",
       "    </tr>\n",
       "    <tr>\n",
       "      <th>7</th>\n",
       "      <td>Добавить форму подписки на все основные страницы, чтобы собрать базу клиентов для email-рассылок</td>\n",
       "      <td>10</td>\n",
       "      <td>7</td>\n",
       "      <td>8</td>\n",
       "      <td>5</td>\n",
       "      <td>11.20</td>\n",
       "    </tr>\n",
       "    <tr>\n",
       "      <th>6</th>\n",
       "      <td>Показать на главной странице баннеры с актуальными акциями и распродажами, чтобы увеличить конверсию</td>\n",
       "      <td>5</td>\n",
       "      <td>3</td>\n",
       "      <td>8</td>\n",
       "      <td>3</td>\n",
       "      <td>8.00</td>\n",
       "    </tr>\n",
       "    <tr>\n",
       "      <th>2</th>\n",
       "      <td>Добавить блоки рекомендаций товаров на сайт интернет магазина, чтобы повысить конверсию и средний чек заказа</td>\n",
       "      <td>8</td>\n",
       "      <td>3</td>\n",
       "      <td>7</td>\n",
       "      <td>3</td>\n",
       "      <td>7.00</td>\n",
       "    </tr>\n",
       "    <tr>\n",
       "      <th>1</th>\n",
       "      <td>Запустить собственную службу доставки, что сократит срок доставки заказов</td>\n",
       "      <td>2</td>\n",
       "      <td>5</td>\n",
       "      <td>4</td>\n",
       "      <td>10</td>\n",
       "      <td>2.00</td>\n",
       "    </tr>\n",
       "    <tr>\n",
       "      <th>5</th>\n",
       "      <td>Добавить страницу отзывов клиентов о магазине, что позволит увеличить количество заказов</td>\n",
       "      <td>3</td>\n",
       "      <td>2</td>\n",
       "      <td>2</td>\n",
       "      <td>3</td>\n",
       "      <td>1.33</td>\n",
       "    </tr>\n",
       "    <tr>\n",
       "      <th>3</th>\n",
       "      <td>Изменить структура категорий, что увеличит конверсию, т.к. пользователи быстрее найдут нужный товар</td>\n",
       "      <td>8</td>\n",
       "      <td>3</td>\n",
       "      <td>3</td>\n",
       "      <td>8</td>\n",
       "      <td>1.12</td>\n",
       "    </tr>\n",
       "    <tr>\n",
       "      <th>4</th>\n",
       "      <td>Изменить цвет фона главной страницы, чтобы увеличить вовлеченность пользователей</td>\n",
       "      <td>3</td>\n",
       "      <td>1</td>\n",
       "      <td>1</td>\n",
       "      <td>1</td>\n",
       "      <td>1.00</td>\n",
       "    </tr>\n",
       "  </tbody>\n",
       "</table>\n",
       "</div>"
      ],
      "text/plain": [
       "                                                                                                     hypothesis  \\\n",
       "8                                                       Запустить акцию, дающую скидку на товар в день рождения   \n",
       "0            Добавить два новых канала привлечения трафика, что позволит привлекать на 30% больше пользователей   \n",
       "7              Добавить форму подписки на все основные страницы, чтобы собрать базу клиентов для email-рассылок   \n",
       "6          Показать на главной странице баннеры с актуальными акциями и распродажами, чтобы увеличить конверсию   \n",
       "2  Добавить блоки рекомендаций товаров на сайт интернет магазина, чтобы повысить конверсию и средний чек заказа   \n",
       "1                                     Запустить собственную службу доставки, что сократит срок доставки заказов   \n",
       "5                      Добавить страницу отзывов клиентов о магазине, что позволит увеличить количество заказов   \n",
       "3           Изменить структура категорий, что увеличит конверсию, т.к. пользователи быстрее найдут нужный товар   \n",
       "4                              Изменить цвет фона главной страницы, чтобы увеличить вовлеченность пользователей   \n",
       "\n",
       "   reach  impact  confidence  efforts    ICE  \n",
       "8      1       9           9        5  16.20  \n",
       "0      3      10           8        6  13.33  \n",
       "7     10       7           8        5  11.20  \n",
       "6      5       3           8        3   8.00  \n",
       "2      8       3           7        3   7.00  \n",
       "1      2       5           4       10   2.00  \n",
       "5      3       2           2        3   1.33  \n",
       "3      8       3           3        8   1.12  \n",
       "4      3       1           1        1   1.00  "
      ]
     },
     "execution_count": 5,
     "metadata": {},
     "output_type": "execute_result"
    }
   ],
   "source": [
    "#приоритизация гипотезы с применением фрейма ICE и сортировка по убыванию приоритета\n",
    "hypothesis['ICE'] = round((hypothesis['impact'] * hypothesis['confidence'] / hypothesis['efforts']), 2)\n",
    "sort_hypothesis_ice = hypothesis.sort_values(by='ICE', ascending=False)\n",
    "sort_hypothesis_ice"
   ]
  },
  {
   "cell_type": "markdown",
   "metadata": {},
   "source": [
    "наиболее перспективные гипотезы: \n",
    "1. Запустить акцию, дающую скидку на товар в день рождения (однако охват этого изменения очень маленький (всего 1), в то же время стоимость этого эксперимента оценена в 5, что достаточно много)\n",
    "2. Добавить два новых канала привлечения трафика, что позволит привлекать на 30% больше пользователей (аналогично малый охват)\n",
    "3. Добавить форму подписки на все основные страницы, чтобы собрать базу клиентов для email-рассылок\t\n",
    "4. Показать на главной странице баннеры с актуальными акциями и распродажами, чтобы увеличить конверсию\n",
    "5. Добавить блоки рекомендаций товаров на сайт интернет магазина, чтобы повысить конверсию и средний чек заказа\n",
    "\n",
    "Реально перспективными видятся вышеперечисленные гипотезы 3-5"
   ]
  },
  {
   "cell_type": "code",
   "execution_count": 6,
   "metadata": {},
   "outputs": [
    {
     "data": {
      "text/html": [
       "<div>\n",
       "<style scoped>\n",
       "    .dataframe tbody tr th:only-of-type {\n",
       "        vertical-align: middle;\n",
       "    }\n",
       "\n",
       "    .dataframe tbody tr th {\n",
       "        vertical-align: top;\n",
       "    }\n",
       "\n",
       "    .dataframe thead th {\n",
       "        text-align: right;\n",
       "    }\n",
       "</style>\n",
       "<table border=\"1\" class=\"dataframe\">\n",
       "  <thead>\n",
       "    <tr style=\"text-align: right;\">\n",
       "      <th></th>\n",
       "      <th>hypothesis</th>\n",
       "      <th>reach</th>\n",
       "      <th>impact</th>\n",
       "      <th>confidence</th>\n",
       "      <th>efforts</th>\n",
       "      <th>ICE</th>\n",
       "      <th>RICE</th>\n",
       "    </tr>\n",
       "  </thead>\n",
       "  <tbody>\n",
       "    <tr>\n",
       "      <th>7</th>\n",
       "      <td>Добавить форму подписки на все основные страницы, чтобы собрать базу клиентов для email-рассылок</td>\n",
       "      <td>10</td>\n",
       "      <td>7</td>\n",
       "      <td>8</td>\n",
       "      <td>5</td>\n",
       "      <td>11.20</td>\n",
       "      <td>112.0</td>\n",
       "    </tr>\n",
       "    <tr>\n",
       "      <th>2</th>\n",
       "      <td>Добавить блоки рекомендаций товаров на сайт интернет магазина, чтобы повысить конверсию и средний чек заказа</td>\n",
       "      <td>8</td>\n",
       "      <td>3</td>\n",
       "      <td>7</td>\n",
       "      <td>3</td>\n",
       "      <td>7.00</td>\n",
       "      <td>56.0</td>\n",
       "    </tr>\n",
       "    <tr>\n",
       "      <th>0</th>\n",
       "      <td>Добавить два новых канала привлечения трафика, что позволит привлекать на 30% больше пользователей</td>\n",
       "      <td>3</td>\n",
       "      <td>10</td>\n",
       "      <td>8</td>\n",
       "      <td>6</td>\n",
       "      <td>13.33</td>\n",
       "      <td>40.0</td>\n",
       "    </tr>\n",
       "    <tr>\n",
       "      <th>6</th>\n",
       "      <td>Показать на главной странице баннеры с актуальными акциями и распродажами, чтобы увеличить конверсию</td>\n",
       "      <td>5</td>\n",
       "      <td>3</td>\n",
       "      <td>8</td>\n",
       "      <td>3</td>\n",
       "      <td>8.00</td>\n",
       "      <td>40.0</td>\n",
       "    </tr>\n",
       "    <tr>\n",
       "      <th>8</th>\n",
       "      <td>Запустить акцию, дающую скидку на товар в день рождения</td>\n",
       "      <td>1</td>\n",
       "      <td>9</td>\n",
       "      <td>9</td>\n",
       "      <td>5</td>\n",
       "      <td>16.20</td>\n",
       "      <td>16.2</td>\n",
       "    </tr>\n",
       "    <tr>\n",
       "      <th>3</th>\n",
       "      <td>Изменить структура категорий, что увеличит конверсию, т.к. пользователи быстрее найдут нужный товар</td>\n",
       "      <td>8</td>\n",
       "      <td>3</td>\n",
       "      <td>3</td>\n",
       "      <td>8</td>\n",
       "      <td>1.12</td>\n",
       "      <td>9.0</td>\n",
       "    </tr>\n",
       "    <tr>\n",
       "      <th>1</th>\n",
       "      <td>Запустить собственную службу доставки, что сократит срок доставки заказов</td>\n",
       "      <td>2</td>\n",
       "      <td>5</td>\n",
       "      <td>4</td>\n",
       "      <td>10</td>\n",
       "      <td>2.00</td>\n",
       "      <td>4.0</td>\n",
       "    </tr>\n",
       "    <tr>\n",
       "      <th>5</th>\n",
       "      <td>Добавить страницу отзывов клиентов о магазине, что позволит увеличить количество заказов</td>\n",
       "      <td>3</td>\n",
       "      <td>2</td>\n",
       "      <td>2</td>\n",
       "      <td>3</td>\n",
       "      <td>1.33</td>\n",
       "      <td>4.0</td>\n",
       "    </tr>\n",
       "    <tr>\n",
       "      <th>4</th>\n",
       "      <td>Изменить цвет фона главной страницы, чтобы увеличить вовлеченность пользователей</td>\n",
       "      <td>3</td>\n",
       "      <td>1</td>\n",
       "      <td>1</td>\n",
       "      <td>1</td>\n",
       "      <td>1.00</td>\n",
       "      <td>3.0</td>\n",
       "    </tr>\n",
       "  </tbody>\n",
       "</table>\n",
       "</div>"
      ],
      "text/plain": [
       "                                                                                                     hypothesis  \\\n",
       "7              Добавить форму подписки на все основные страницы, чтобы собрать базу клиентов для email-рассылок   \n",
       "2  Добавить блоки рекомендаций товаров на сайт интернет магазина, чтобы повысить конверсию и средний чек заказа   \n",
       "0            Добавить два новых канала привлечения трафика, что позволит привлекать на 30% больше пользователей   \n",
       "6          Показать на главной странице баннеры с актуальными акциями и распродажами, чтобы увеличить конверсию   \n",
       "8                                                       Запустить акцию, дающую скидку на товар в день рождения   \n",
       "3           Изменить структура категорий, что увеличит конверсию, т.к. пользователи быстрее найдут нужный товар   \n",
       "1                                     Запустить собственную службу доставки, что сократит срок доставки заказов   \n",
       "5                      Добавить страницу отзывов клиентов о магазине, что позволит увеличить количество заказов   \n",
       "4                              Изменить цвет фона главной страницы, чтобы увеличить вовлеченность пользователей   \n",
       "\n",
       "   reach  impact  confidence  efforts    ICE   RICE  \n",
       "7     10       7           8        5  11.20  112.0  \n",
       "2      8       3           7        3   7.00   56.0  \n",
       "0      3      10           8        6  13.33   40.0  \n",
       "6      5       3           8        3   8.00   40.0  \n",
       "8      1       9           9        5  16.20   16.2  \n",
       "3      8       3           3        8   1.12    9.0  \n",
       "1      2       5           4       10   2.00    4.0  \n",
       "5      3       2           2        3   1.33    4.0  \n",
       "4      3       1           1        1   1.00    3.0  "
      ]
     },
     "execution_count": 6,
     "metadata": {},
     "output_type": "execute_result"
    }
   ],
   "source": [
    "#приоритизация гипотезы с применением фрейма RICE и сортировка по убыванию приоритета\n",
    "hypothesis['RICE'] = (hypothesis['reach'] * hypothesis['impact'] * hypothesis['confidence']) / hypothesis['efforts']\n",
    "sort_hypothesis_rice = hypothesis.sort_values(by='RICE', ascending=False)\n",
    "sort_hypothesis_rice"
   ]
  },
  {
   "cell_type": "markdown",
   "metadata": {},
   "source": [
    "Сейчас приоритет гипотез распределился иначе, но выводы предыдущего задания не особо изменились: в топ-4 гипотез вошли те же, что и лидировали при ICE. Так же подтвердилась то, что запустить акцию в честь дня рождения не самая лучшая идея т.к. она охватывает очень малый круг покупателей. \n",
    "Лидером стала гипотеза:\n",
    "\n",
    "    - Добавить форму подписки на все основные страницы, чтобы собрать базу клиентов для email-рассылок\t\n"
   ]
  },
  {
   "cell_type": "markdown",
   "metadata": {},
   "source": [
    "<div>\n",
    "    <h2> Часть вторая. Анализ результатов проведенного А/В-тестирования <a class=\"tocSkip\"> </h2>"
   ]
  },
  {
   "cell_type": "code",
   "execution_count": 7,
   "metadata": {},
   "outputs": [
    {
     "name": "stdout",
     "output_type": "stream",
     "text": [
      "<class 'pandas.core.frame.DataFrame'>\n",
      "RangeIndex: 1197 entries, 0 to 1196\n",
      "Data columns (total 5 columns):\n",
      " #   Column         Non-Null Count  Dtype \n",
      "---  ------         --------------  ----- \n",
      " 0   transactionId  1197 non-null   int64 \n",
      " 1   visitorId      1197 non-null   int64 \n",
      " 2   date           1197 non-null   object\n",
      " 3   revenue        1197 non-null   int64 \n",
      " 4   group          1197 non-null   object\n",
      "dtypes: int64(3), object(2)\n",
      "memory usage: 46.9+ KB\n"
     ]
    }
   ],
   "source": [
    "orders.info()"
   ]
  },
  {
   "cell_type": "code",
   "execution_count": 8,
   "metadata": {},
   "outputs": [
    {
     "data": {
      "text/html": [
       "<div>\n",
       "<style scoped>\n",
       "    .dataframe tbody tr th:only-of-type {\n",
       "        vertical-align: middle;\n",
       "    }\n",
       "\n",
       "    .dataframe tbody tr th {\n",
       "        vertical-align: top;\n",
       "    }\n",
       "\n",
       "    .dataframe thead th {\n",
       "        text-align: right;\n",
       "    }\n",
       "</style>\n",
       "<table border=\"1\" class=\"dataframe\">\n",
       "  <thead>\n",
       "    <tr style=\"text-align: right;\">\n",
       "      <th></th>\n",
       "      <th>transaction_id</th>\n",
       "      <th>visitor_id</th>\n",
       "      <th>date</th>\n",
       "      <th>revenue</th>\n",
       "      <th>group</th>\n",
       "    </tr>\n",
       "  </thead>\n",
       "  <tbody>\n",
       "    <tr>\n",
       "      <th>0</th>\n",
       "      <td>3667963787</td>\n",
       "      <td>3312258926</td>\n",
       "      <td>2019-08-15</td>\n",
       "      <td>1650</td>\n",
       "      <td>B</td>\n",
       "    </tr>\n",
       "    <tr>\n",
       "      <th>1</th>\n",
       "      <td>2804400009</td>\n",
       "      <td>3642806036</td>\n",
       "      <td>2019-08-15</td>\n",
       "      <td>730</td>\n",
       "      <td>B</td>\n",
       "    </tr>\n",
       "    <tr>\n",
       "      <th>2</th>\n",
       "      <td>2961555356</td>\n",
       "      <td>4069496402</td>\n",
       "      <td>2019-08-15</td>\n",
       "      <td>400</td>\n",
       "      <td>A</td>\n",
       "    </tr>\n",
       "    <tr>\n",
       "      <th>3</th>\n",
       "      <td>3797467345</td>\n",
       "      <td>1196621759</td>\n",
       "      <td>2019-08-15</td>\n",
       "      <td>9759</td>\n",
       "      <td>B</td>\n",
       "    </tr>\n",
       "    <tr>\n",
       "      <th>4</th>\n",
       "      <td>2282983706</td>\n",
       "      <td>2322279887</td>\n",
       "      <td>2019-08-15</td>\n",
       "      <td>2308</td>\n",
       "      <td>B</td>\n",
       "    </tr>\n",
       "    <tr>\n",
       "      <th>...</th>\n",
       "      <td>...</td>\n",
       "      <td>...</td>\n",
       "      <td>...</td>\n",
       "      <td>...</td>\n",
       "      <td>...</td>\n",
       "    </tr>\n",
       "    <tr>\n",
       "      <th>1192</th>\n",
       "      <td>2662137336</td>\n",
       "      <td>3733762160</td>\n",
       "      <td>2019-08-14</td>\n",
       "      <td>6490</td>\n",
       "      <td>B</td>\n",
       "    </tr>\n",
       "    <tr>\n",
       "      <th>1193</th>\n",
       "      <td>2203539145</td>\n",
       "      <td>370388673</td>\n",
       "      <td>2019-08-14</td>\n",
       "      <td>3190</td>\n",
       "      <td>A</td>\n",
       "    </tr>\n",
       "    <tr>\n",
       "      <th>1194</th>\n",
       "      <td>1807773912</td>\n",
       "      <td>573423106</td>\n",
       "      <td>2019-08-14</td>\n",
       "      <td>10550</td>\n",
       "      <td>A</td>\n",
       "    </tr>\n",
       "    <tr>\n",
       "      <th>1195</th>\n",
       "      <td>1947021204</td>\n",
       "      <td>1614305549</td>\n",
       "      <td>2019-08-14</td>\n",
       "      <td>100</td>\n",
       "      <td>A</td>\n",
       "    </tr>\n",
       "    <tr>\n",
       "      <th>1196</th>\n",
       "      <td>3936777065</td>\n",
       "      <td>2108080724</td>\n",
       "      <td>2019-08-15</td>\n",
       "      <td>202740</td>\n",
       "      <td>B</td>\n",
       "    </tr>\n",
       "  </tbody>\n",
       "</table>\n",
       "<p>1197 rows × 5 columns</p>\n",
       "</div>"
      ],
      "text/plain": [
       "      transaction_id  visitor_id       date  revenue group\n",
       "0         3667963787  3312258926 2019-08-15     1650     B\n",
       "1         2804400009  3642806036 2019-08-15      730     B\n",
       "2         2961555356  4069496402 2019-08-15      400     A\n",
       "3         3797467345  1196621759 2019-08-15     9759     B\n",
       "4         2282983706  2322279887 2019-08-15     2308     B\n",
       "...              ...         ...        ...      ...   ...\n",
       "1192      2662137336  3733762160 2019-08-14     6490     B\n",
       "1193      2203539145   370388673 2019-08-14     3190     A\n",
       "1194      1807773912   573423106 2019-08-14    10550     A\n",
       "1195      1947021204  1614305549 2019-08-14      100     A\n",
       "1196      3936777065  2108080724 2019-08-15   202740     B\n",
       "\n",
       "[1197 rows x 5 columns]"
      ]
     },
     "execution_count": 8,
     "metadata": {},
     "output_type": "execute_result"
    }
   ],
   "source": [
    "# приведение столбца date к типу datetime\n",
    "orders['date'] = pd.to_datetime(orders['date'])\n",
    "\n",
    "#корректировка названий столбцов в соответствии с принятыми стандартами\n",
    "orders.columns = map(str.lower, orders.columns)\n",
    "orders = orders.rename(columns={'transactionid' : 'transaction_id', 'visitorid':'visitor_id'})\n",
    "orders"
   ]
  },
  {
   "cell_type": "code",
   "execution_count": 9,
   "metadata": {},
   "outputs": [
    {
     "name": "stdout",
     "output_type": "stream",
     "text": [
      "transaction_id    0\n",
      "visitor_id        0\n",
      "date              0\n",
      "revenue           0\n",
      "group             0\n",
      "dtype: int64\n"
     ]
    }
   ],
   "source": [
    "#проверка наличия пропусков\n",
    "print(orders.isna().sum()) "
   ]
  },
  {
   "cell_type": "code",
   "execution_count": 10,
   "metadata": {},
   "outputs": [
    {
     "data": {
      "text/plain": [
       "0"
      ]
     },
     "execution_count": 10,
     "metadata": {},
     "output_type": "execute_result"
    }
   ],
   "source": [
    "orders.duplicated().sum() #проверка наличия дубликатов"
   ]
  },
  {
   "cell_type": "code",
   "execution_count": 11,
   "metadata": {},
   "outputs": [
    {
     "name": "stdout",
     "output_type": "stream",
     "text": [
      "<class 'pandas.core.frame.DataFrame'>\n",
      "RangeIndex: 62 entries, 0 to 61\n",
      "Data columns (total 3 columns):\n",
      " #   Column    Non-Null Count  Dtype \n",
      "---  ------    --------------  ----- \n",
      " 0   date      62 non-null     object\n",
      " 1   group     62 non-null     object\n",
      " 2   visitors  62 non-null     int64 \n",
      "dtypes: int64(1), object(2)\n",
      "memory usage: 1.6+ KB\n"
     ]
    }
   ],
   "source": [
    "visitors.info()"
   ]
  },
  {
   "cell_type": "code",
   "execution_count": 12,
   "metadata": {},
   "outputs": [
    {
     "data": {
      "text/html": [
       "<div>\n",
       "<style scoped>\n",
       "    .dataframe tbody tr th:only-of-type {\n",
       "        vertical-align: middle;\n",
       "    }\n",
       "\n",
       "    .dataframe tbody tr th {\n",
       "        vertical-align: top;\n",
       "    }\n",
       "\n",
       "    .dataframe thead th {\n",
       "        text-align: right;\n",
       "    }\n",
       "</style>\n",
       "<table border=\"1\" class=\"dataframe\">\n",
       "  <thead>\n",
       "    <tr style=\"text-align: right;\">\n",
       "      <th></th>\n",
       "      <th>date</th>\n",
       "      <th>group</th>\n",
       "      <th>visitors</th>\n",
       "    </tr>\n",
       "  </thead>\n",
       "  <tbody>\n",
       "    <tr>\n",
       "      <th>0</th>\n",
       "      <td>2019-08-01</td>\n",
       "      <td>A</td>\n",
       "      <td>719</td>\n",
       "    </tr>\n",
       "    <tr>\n",
       "      <th>1</th>\n",
       "      <td>2019-08-02</td>\n",
       "      <td>A</td>\n",
       "      <td>619</td>\n",
       "    </tr>\n",
       "    <tr>\n",
       "      <th>2</th>\n",
       "      <td>2019-08-03</td>\n",
       "      <td>A</td>\n",
       "      <td>507</td>\n",
       "    </tr>\n",
       "    <tr>\n",
       "      <th>3</th>\n",
       "      <td>2019-08-04</td>\n",
       "      <td>A</td>\n",
       "      <td>717</td>\n",
       "    </tr>\n",
       "    <tr>\n",
       "      <th>4</th>\n",
       "      <td>2019-08-05</td>\n",
       "      <td>A</td>\n",
       "      <td>756</td>\n",
       "    </tr>\n",
       "    <tr>\n",
       "      <th>...</th>\n",
       "      <td>...</td>\n",
       "      <td>...</td>\n",
       "      <td>...</td>\n",
       "    </tr>\n",
       "    <tr>\n",
       "      <th>57</th>\n",
       "      <td>2019-08-27</td>\n",
       "      <td>B</td>\n",
       "      <td>720</td>\n",
       "    </tr>\n",
       "    <tr>\n",
       "      <th>58</th>\n",
       "      <td>2019-08-28</td>\n",
       "      <td>B</td>\n",
       "      <td>654</td>\n",
       "    </tr>\n",
       "    <tr>\n",
       "      <th>59</th>\n",
       "      <td>2019-08-29</td>\n",
       "      <td>B</td>\n",
       "      <td>531</td>\n",
       "    </tr>\n",
       "    <tr>\n",
       "      <th>60</th>\n",
       "      <td>2019-08-30</td>\n",
       "      <td>B</td>\n",
       "      <td>490</td>\n",
       "    </tr>\n",
       "    <tr>\n",
       "      <th>61</th>\n",
       "      <td>2019-08-31</td>\n",
       "      <td>B</td>\n",
       "      <td>718</td>\n",
       "    </tr>\n",
       "  </tbody>\n",
       "</table>\n",
       "<p>62 rows × 3 columns</p>\n",
       "</div>"
      ],
      "text/plain": [
       "         date group  visitors\n",
       "0  2019-08-01     A       719\n",
       "1  2019-08-02     A       619\n",
       "2  2019-08-03     A       507\n",
       "3  2019-08-04     A       717\n",
       "4  2019-08-05     A       756\n",
       "..        ...   ...       ...\n",
       "57 2019-08-27     B       720\n",
       "58 2019-08-28     B       654\n",
       "59 2019-08-29     B       531\n",
       "60 2019-08-30     B       490\n",
       "61 2019-08-31     B       718\n",
       "\n",
       "[62 rows x 3 columns]"
      ]
     },
     "execution_count": 12,
     "metadata": {},
     "output_type": "execute_result"
    }
   ],
   "source": [
    "# приведение столбца date к типу datetime\n",
    "visitors['date'] = pd.to_datetime(visitors['date'])\n",
    "visitors"
   ]
  },
  {
   "cell_type": "code",
   "execution_count": 13,
   "metadata": {},
   "outputs": [
    {
     "name": "stdout",
     "output_type": "stream",
     "text": [
      "date        0\n",
      "group       0\n",
      "visitors    0\n",
      "dtype: int64\n"
     ]
    }
   ],
   "source": [
    "#проверка наличия пропусков\n",
    "print(visitors.isna().sum()) "
   ]
  },
  {
   "cell_type": "code",
   "execution_count": 14,
   "metadata": {
    "scrolled": true
   },
   "outputs": [
    {
     "data": {
      "text/plain": [
       "0"
      ]
     },
     "execution_count": 14,
     "metadata": {},
     "output_type": "execute_result"
    }
   ],
   "source": [
    "visitors.duplicated().sum() #проверка наличия дубликатов"
   ]
  },
  {
   "cell_type": "markdown",
   "metadata": {},
   "source": [
    "Дубликатов и пропусков в датафреймах не обнаружено. Столбцы приведены к соответствующему регистру. "
   ]
  },
  {
   "cell_type": "markdown",
   "metadata": {},
   "source": [
    "<div class=\"alert alert\" style=\"border-radius: 10px; box-shadow: 2px 2px 2px; border: 1px solid; padding: 10px \"> \n",
    "<b>1. Построение графика куммулятивной выручки по группам</b>"
   ]
  },
  {
   "cell_type": "code",
   "execution_count": 15,
   "metadata": {},
   "outputs": [],
   "source": [
    "# создание массива уникальных пар значений дат и групп теста\n",
    "\n",
    "dates_groups = orders[['date', 'group']].drop_duplicates()"
   ]
  },
  {
   "cell_type": "code",
   "execution_count": 16,
   "metadata": {},
   "outputs": [],
   "source": [
    "# получаем агрегированные кумулятивные по дням данные о заказах \n",
    "\n",
    "orders_aggregated = dates_groups.apply (\n",
    "    lambda x: orders [np.logical_and (orders ['date'] <= x ['date'], orders ['group'] == x ['group'])]\\\n",
    ".agg( {'date' : 'max', 'group' : 'max', 'transaction_id' : 'nunique', 'visitor_id' : 'nunique', 'revenue' : 'sum'}), axis=1\n",
    ").sort_values (by=['date', 'group'])\n"
   ]
  },
  {
   "cell_type": "code",
   "execution_count": 17,
   "metadata": {},
   "outputs": [],
   "source": [
    "# получаем агрегированные кумулятивные по дням данные о посетителях интернет-магазина \n",
    "visitors_aggregated = dates_groups.apply(\n",
    "    lambda x: visitors[np.logical_and(visitors['date'] <= x['date'], visitors['group'] == x['group'])]\\\n",
    "    .agg({'date' : 'max', 'group' : 'max', 'visitors' : 'sum'}), axis=1).sort_values(by=['date','group'])"
   ]
  },
  {
   "cell_type": "code",
   "execution_count": 18,
   "metadata": {},
   "outputs": [
    {
     "name": "stdout",
     "output_type": "stream",
     "text": [
      "        date group  orders  buyers  revenue  visitors\n",
      "0 2019-08-01     A      24      20   148579       719\n",
      "1 2019-08-01     B      21      20   101217       713\n",
      "2 2019-08-02     A      44      38   242401      1338\n",
      "3 2019-08-02     B      45      43   266748      1294\n",
      "4 2019-08-03     A      68      62   354874      1845\n",
      "5 2019-08-03     B      61      59   380996      1803\n",
      "6 2019-08-04     A      84      77   425699      2562\n",
      "7 2019-08-04     B      78      75   489567      2573\n",
      "8 2019-08-05     A     109     100   549917      3318\n",
      "9 2019-08-05     B     101      98   581995      3280\n"
     ]
    }
   ],
   "source": [
    "# объединяем кумулятивные данные в одной таблице и присваиваем ее столбцам понятные названия\n",
    "cumulative_data = orders_aggregated.merge(visitors_aggregated, left_on=['date', 'group'], right_on=['date', 'group'])\n",
    "cumulative_data.columns = ['date', 'group', 'orders', 'buyers', 'revenue', 'visitors']\n",
    "\n",
    "print(cumulative_data.head(10))\n"
   ]
  },
  {
   "cell_type": "code",
   "execution_count": 19,
   "metadata": {},
   "outputs": [],
   "source": [
    "# создаем датафреймы с кумулятивным кол-вом заказов по дням в группах А и В\n",
    "cumulative_revenue_A = cumulative_data[cumulative_data['group']=='A'][['date','revenue', 'orders']]\n",
    "cumulative_revenue_B = cumulative_data[cumulative_data['group']=='B'][['date','revenue', 'orders']]"
   ]
  },
  {
   "cell_type": "code",
   "execution_count": 20,
   "metadata": {},
   "outputs": [
    {
     "data": {
      "image/png": "[encoded data removed]",
      "text/plain": [
       "<Figure size 432x288 with 1 Axes>"
      ]
     },
     "metadata": {
      "needs_background": "light"
     },
     "output_type": "display_data"
    }
   ],
   "source": [
    "# Строим график выручки \n",
    "plt.plot(cumulative_revenue_A['date'], cumulative_revenue_A['revenue'], label='A')\n",
    "plt.plot(cumulative_revenue_B['date'], cumulative_revenue_B['revenue'], label='B')\n",
    "plt.title('График динамики кумулятивной выручки по группам')\n",
    "plt.ylabel(\"Выручка\")\n",
    "plt.xlabel(\"Дата\")\n",
    "plt.xticks(rotation=50)\n",
    "plt.legend()\n",
    "plt.show()"
   ]
  },
  {
   "cell_type": "markdown",
   "metadata": {},
   "source": [
    "Выручка почти равномерно увеличивается в течение всего теста, однако в группе В в середине теста произошел рост заказов. Это может свидетельствовать об увеличении числа заказов или о том, что в заказах были очень дорогие позиции. "
   ]
  },
  {
   "cell_type": "markdown",
   "metadata": {},
   "source": [
    "<div class=\"alert alert\" style=\"border-radius: 10px; box-shadow: 2px 2px 2px; border: 1px solid; padding: 10px \"> \n",
    "<b>2. Построение графика кумулятивного среднего чека по группам</b>"
   ]
  },
  {
   "cell_type": "code",
   "execution_count": 21,
   "metadata": {},
   "outputs": [
    {
     "data": {
      "image/png": "[encoded data removed]",
      "text/plain": [
       "<Figure size 432x288 with 1 Axes>"
      ]
     },
     "metadata": {
      "needs_background": "light"
     },
     "output_type": "display_data"
    }
   ],
   "source": [
    "plt.plot(cumulative_revenue_A['date'], cumulative_revenue_A['revenue']/cumulative_revenue_A['orders'], label='A')\n",
    "plt.plot(cumulative_revenue_B['date'], cumulative_revenue_B['revenue']/cumulative_revenue_B['orders'], label='B')\n",
    "plt.title('График динамики кумулятивного среднего чека по группам')\n",
    "plt.ylabel(\"Выручка\")\n",
    "plt.xlabel(\"Дата\")\n",
    "plt.xticks(rotation=50)\n",
    "plt.legend()\n",
    "plt.show()"
   ]
  },
  {
   "cell_type": "markdown",
   "metadata": {},
   "source": [
    "средний чек стал стабильным ближе к концу теста для группы А. И после подъема стал снижаться для группы В, однако уровень среднего чека все равно остался гораздо выше группы А"
   ]
  },
  {
   "cell_type": "markdown",
   "metadata": {},
   "source": [
    "<div class=\"alert alert\" style=\"border-radius: 10px; box-shadow: 2px 2px 2px; border: 1px solid; padding: 10px \"> \n",
    "<b>3. Построение графика относительного изменения кумулятивного среднего чека группы В к группе А</b>"
   ]
  },
  {
   "cell_type": "code",
   "execution_count": 22,
   "metadata": {},
   "outputs": [
    {
     "data": {
      "image/png": "[encoded data removed]",
      "text/plain": [
       "<Figure size 432x288 with 1 Axes>"
      ]
     },
     "metadata": {
      "needs_background": "light"
     },
     "output_type": "display_data"
    }
   ],
   "source": [
    "# собираем данные в одном датафрейме\n",
    "merged_cumulative_revenue = cumulative_revenue_A.merge(cumulative_revenue_B, left_on='date', right_on='date', how='left', suffixes=['A', 'B'])\n",
    "\n",
    "# cтроим отношение средних чеков\n",
    "plt.plot(merged_cumulative_revenue['date'], (merged_cumulative_revenue['revenueB']/merged_cumulative_revenue['ordersB'])/(merged_cumulative_revenue['revenueA']/merged_cumulative_revenue['ordersA'])-1)\n",
    "\n",
    "# добавляем ось X\n",
    "plt.axhline(y=0, color='red', linestyle='--')\n",
    "plt.title('График относительного изменения кумулятивного среднего чека группы В к группе А')\n",
    "plt.ylabel(\"Выручка\")\n",
    "plt.xlabel(\"Дата\")\n",
    "plt.xticks(rotation=50)\n",
    "plt.show()"
   ]
  },
  {
   "cell_type": "markdown",
   "metadata": {},
   "source": [
    "Результаты теста значительно менялись в несколько дат. Возможно тогда были аномальные заказы"
   ]
  },
  {
   "cell_type": "markdown",
   "metadata": {},
   "source": [
    "<div class=\"alert alert\" style=\"border-radius: 10px; box-shadow: 2px 2px 2px; border: 1px solid; padding: 10px \"> \n",
    "<b>4. Построение графика кумулятивного среднего количества заказов на посетителя по группам.</b>"
   ]
  },
  {
   "cell_type": "code",
   "execution_count": 23,
   "metadata": {},
   "outputs": [
    {
     "data": {
      "image/png": "[encoded data removed]",
      "text/plain": [
       "<Figure size 432x288 with 1 Axes>"
      ]
     },
     "metadata": {
      "needs_background": "light"
     },
     "output_type": "display_data"
    }
   ],
   "source": [
    "# определение кумулятивной конверсии\n",
    "cumulative_data['conversion'] = cumulative_data['orders'] / cumulative_data['visitors']\n",
    "\n",
    "#Определение данных по группам\n",
    "cumulative_data_A = cumulative_data[cumulative_data['group'] == 'A']\n",
    "cumulative_data_B = cumulative_data[cumulative_data['group'] == 'B']\n",
    "\n",
    "#построение графиков\n",
    "plt.plot(cumulative_data_A['date'], cumulative_data_A['conversion'], label= 'A')\n",
    "plt.plot(cumulative_data_B['date'], cumulative_data_B['conversion'], label= 'B')\n",
    "plt.title('График кумулятивного среднего количества заказов на посетителя по группам')\n",
    "plt.ylabel(\"Конверсия\")\n",
    "plt.xlabel(\"Дата\")\n",
    "plt.xticks(rotation=50)\n",
    "plt.legend()\n",
    "plt.show()"
   ]
  },
  {
   "cell_type": "markdown",
   "metadata": {},
   "source": [
    "в начале эксперимента группы колебались симметрично, но потом конверсия группы А просела, а конверсия группы В наоборот, выросла "
   ]
  },
  {
   "cell_type": "markdown",
   "metadata": {},
   "source": [
    "<div class=\"alert alert\" style=\"border-radius: 10px; box-shadow: 2px 2px 2px; border: 1px solid; padding: 10px \"> \n",
    "<b> 5. Построение графика относительного изменения кумулятивного среднего кол-ва заказов на посетителя группы В к группе А.</b>"
   ]
  },
  {
   "cell_type": "code",
   "execution_count": 24,
   "metadata": {},
   "outputs": [
    {
     "data": {
      "image/png": "[encoded data removed]",
      "text/plain": [
       "<Figure size 432x288 with 1 Axes>"
      ]
     },
     "metadata": {
      "needs_background": "light"
     },
     "output_type": "display_data"
    }
   ],
   "source": [
    "merged_сumulative_сonversions = cumulative_data_A[['date','conversion']].merge(cumulative_data_B[['date','conversion']], left_on='date', right_on='date', how='left', suffixes=['A', 'B'])\n",
    "\n",
    "plt.plot(merged_сumulative_сonversions['date'], merged_сumulative_сonversions['conversionB']/merged_сumulative_сonversions['conversionA']-1, label=\"Относительный прирост конверсии группы B к группе A\")\n",
    "\n",
    "plt.axhline(y=0, color='red', linestyle='--')\n",
    "plt.axhline(y=0.2, color='grey', linestyle='--')\n",
    "plt.title('График относительного изменения кумулятивного среднего кол-ва заказов на посетителя группы В к группе А')\n",
    "plt.ylabel(\"Конверсия\")\n",
    "plt.xlabel(\"Дата\")\n",
    "plt.xticks(rotation=50)\n",
    "plt.show()"
   ]
  },
  {
   "cell_type": "markdown",
   "metadata": {},
   "source": [
    "Уже в начале теста группа В лидирует по конверсии и даже в середине теста достигла прироста 20% относительно группы а, однако потом началось снижение. Но все равно конверсия находится к концу теста в промежутке 10-15% прироста"
   ]
  },
  {
   "cell_type": "markdown",
   "metadata": {},
   "source": [
    "<div class=\"alert alert\" style=\"border-radius: 10px; box-shadow: 2px 2px 2px; border: 1px solid; padding: 10px \"> \n",
    "<b> 6. Построение точечного графика количества заказов по пользователям</b>"
   ]
  },
  {
   "cell_type": "code",
   "execution_count": 25,
   "metadata": {
    "scrolled": false
   },
   "outputs": [
    {
     "data": {
      "text/html": [
       "<div>\n",
       "<style scoped>\n",
       "    .dataframe tbody tr th:only-of-type {\n",
       "        vertical-align: middle;\n",
       "    }\n",
       "\n",
       "    .dataframe tbody tr th {\n",
       "        vertical-align: top;\n",
       "    }\n",
       "\n",
       "    .dataframe thead th {\n",
       "        text-align: right;\n",
       "    }\n",
       "</style>\n",
       "<table border=\"1\" class=\"dataframe\">\n",
       "  <thead>\n",
       "    <tr style=\"text-align: right;\">\n",
       "      <th></th>\n",
       "      <th>user_id</th>\n",
       "      <th>orders</th>\n",
       "    </tr>\n",
       "  </thead>\n",
       "  <tbody>\n",
       "    <tr>\n",
       "      <th>1023</th>\n",
       "      <td>4256040402</td>\n",
       "      <td>11</td>\n",
       "    </tr>\n",
       "    <tr>\n",
       "      <th>591</th>\n",
       "      <td>2458001652</td>\n",
       "      <td>11</td>\n",
       "    </tr>\n",
       "    <tr>\n",
       "      <th>569</th>\n",
       "      <td>2378935119</td>\n",
       "      <td>9</td>\n",
       "    </tr>\n",
       "    <tr>\n",
       "      <th>487</th>\n",
       "      <td>2038680547</td>\n",
       "      <td>8</td>\n",
       "    </tr>\n",
       "    <tr>\n",
       "      <th>44</th>\n",
       "      <td>199603092</td>\n",
       "      <td>5</td>\n",
       "    </tr>\n",
       "    <tr>\n",
       "      <th>...</th>\n",
       "      <td>...</td>\n",
       "      <td>...</td>\n",
       "    </tr>\n",
       "    <tr>\n",
       "      <th>359</th>\n",
       "      <td>1484903144</td>\n",
       "      <td>1</td>\n",
       "    </tr>\n",
       "    <tr>\n",
       "      <th>360</th>\n",
       "      <td>1485964287</td>\n",
       "      <td>1</td>\n",
       "    </tr>\n",
       "    <tr>\n",
       "      <th>361</th>\n",
       "      <td>1494664757</td>\n",
       "      <td>1</td>\n",
       "    </tr>\n",
       "    <tr>\n",
       "      <th>362</th>\n",
       "      <td>1495112755</td>\n",
       "      <td>1</td>\n",
       "    </tr>\n",
       "    <tr>\n",
       "      <th>1030</th>\n",
       "      <td>4283872382</td>\n",
       "      <td>1</td>\n",
       "    </tr>\n",
       "  </tbody>\n",
       "</table>\n",
       "<p>1031 rows × 2 columns</p>\n",
       "</div>"
      ],
      "text/plain": [
       "         user_id  orders\n",
       "1023  4256040402      11\n",
       "591   2458001652      11\n",
       "569   2378935119       9\n",
       "487   2038680547       8\n",
       "44     199603092       5\n",
       "...          ...     ...\n",
       "359   1484903144       1\n",
       "360   1485964287       1\n",
       "361   1494664757       1\n",
       "362   1495112755       1\n",
       "1030  4283872382       1\n",
       "\n",
       "[1031 rows x 2 columns]"
      ]
     },
     "metadata": {},
     "output_type": "display_data"
    }
   ],
   "source": [
    "#Посчитаем кол-во заказов по пользователям\n",
    "orders_by_users = orders.groupby('visitor_id', as_index=False).agg({'transaction_id' : 'nunique'})\n",
    "orders_by_users.columns = ['user_id', 'orders']\n",
    "display(orders_by_users.sort_values(by='orders', ascending=False))"
   ]
  },
  {
   "cell_type": "code",
   "execution_count": 26,
   "metadata": {},
   "outputs": [
    {
     "data": {
      "image/png": "[encoded data removed]",
      "text/plain": [
       "<Figure size 432x288 with 1 Axes>"
      ]
     },
     "metadata": {
      "needs_background": "light"
     },
     "output_type": "display_data"
    }
   ],
   "source": [
    "#Построим точечную диаграмму числа заказов на одного пользователя\n",
    "x_values = pd.Series(range(0, len(orders_by_users)))\n",
    "plt.scatter(x_values, orders_by_users['orders'], color='red', alpha = 0.3)\n",
    "plt.title('Распределение числа заказов на одного пользователя')\n",
    "plt.ylabel(\"Количество заказов\")\n",
    "plt.xlabel(\"Пользователи\")\n",
    "plt.show()"
   ]
  },
  {
   "cell_type": "markdown",
   "metadata": {},
   "source": [
    "Много пользователей с 2-4 заказами. Однако их точная доля не ясна - не понятно, можно ли их считать аномалиями или нет. Поэтому посчитаем выборочные перцентили кол-ва заказов на 1 пользователя:"
   ]
  },
  {
   "cell_type": "markdown",
   "metadata": {},
   "source": [
    "<div class=\"alert alert\" style=\"border-radius: 10px; box-shadow: 2px 2px 2px; border: 1px solid; padding: 10px \"> \n",
    "<b> 7. Расчет 95-го и 99-го перцентилей кол-ва заказов на пользователя. Выбор границы для определения аномальных пользователей</b>"
   ]
  },
  {
   "cell_type": "code",
   "execution_count": 27,
   "metadata": {},
   "outputs": [
    {
     "name": "stdout",
     "output_type": "stream",
     "text": [
      "[2. 4.]\n"
     ]
    }
   ],
   "source": [
    "print(np.percentile(orders_by_users['orders'], [95, 99]))"
   ]
  },
  {
   "cell_type": "markdown",
   "metadata": {},
   "source": [
    "не более 5% пользователей оформляли больше чем 2 заказа. И 1% пользователей заказывали более 4 раз. Разумно выбрать 2-3 заказа на одного пользователя за верхнюю границу числа заказов и отсеивать аномальных пользователей по ней."
   ]
  },
  {
   "cell_type": "markdown",
   "metadata": {},
   "source": [
    "<div class=\"alert alert\" style=\"border-radius: 10px; box-shadow: 2px 2px 2px; border: 1px solid; padding: 10px \"> \n",
    "<b> 8. Построение точечного графика стоимости заказов</b>"
   ]
  },
  {
   "cell_type": "code",
   "execution_count": 28,
   "metadata": {
    "scrolled": true
   },
   "outputs": [
    {
     "data": {
      "image/png": "[encoded data removed]",
      "text/plain": [
       "<Figure size 432x288 with 1 Axes>"
      ]
     },
     "metadata": {
      "needs_background": "light"
     },
     "output_type": "display_data"
    }
   ],
   "source": [
    "# оценим стоимость заказов\n",
    "x_values = pd.Series(range(0, len(orders['revenue'])))\n",
    "plt.scatter(x_values, orders['revenue'], alpha = 0.3)\n",
    "plt.title('Распределение стоимости заказов')\n",
    "plt.ylabel(\"Стоимость заказа, млн\")\n",
    "plt.xlabel(\"Пользователи\")\n",
    "plt.show()"
   ]
  },
  {
   "cell_type": "code",
   "execution_count": 29,
   "metadata": {
    "scrolled": true
   },
   "outputs": [
    {
     "data": {
      "text/plain": [
       "count       1,197.000\n",
       "mean        8,348.006\n",
       "std        39,191.132\n",
       "min            50.000\n",
       "25%         1,220.000\n",
       "50%         2,978.000\n",
       "75%         8,290.000\n",
       "max     1,294,500.000\n",
       "Name: revenue, dtype: float64"
      ]
     },
     "execution_count": 29,
     "metadata": {},
     "output_type": "execute_result"
    }
   ],
   "source": [
    "pd.options.display.float_format ='{:,.3f}'.format\n",
    "orders['revenue'].describe()"
   ]
  },
  {
   "cell_type": "markdown",
   "metadata": {},
   "source": [
    "Как и предполагалось есть несколько дорогих заказов"
   ]
  },
  {
   "cell_type": "markdown",
   "metadata": {},
   "source": [
    "<div class=\"alert alert\" style=\"border-radius: 10px; box-shadow: 2px 2px 2px; border: 1px solid; padding: 10px \"> \n",
    "<b> 9. Расчет 95-го и 99-го перцентилей стоимости заказов</b>"
   ]
  },
  {
   "cell_type": "code",
   "execution_count": 30,
   "metadata": {},
   "outputs": [
    {
     "name": "stdout",
     "output_type": "stream",
     "text": [
      "[28000.  58233.2]\n"
     ]
    }
   ],
   "source": [
    "print(np.percentile(orders['revenue'], [95, 99]))"
   ]
  },
  {
   "cell_type": "markdown",
   "metadata": {},
   "source": [
    "Не более 5% заказов дороже 28 000 и не более 1% дороже 58 233,2\n",
    "\n",
    "были выявлены аномальные значения: для количества покупок - меньше 4х, для стоимости заказа - 58 233,20 и более;"
   ]
  },
  {
   "cell_type": "markdown",
   "metadata": {},
   "source": [
    "<div class=\"alert alert\" style=\"border-radius: 10px; box-shadow: 2px 2px 2px; border: 1px solid; padding: 10px \"> \n",
    "<b> 10. Расчет статистической значимости различий в среднем кол-ве заказов на посетителя между группами по \"сырым\" данным</b>"
   ]
  },
  {
   "cell_type": "markdown",
   "metadata": {},
   "source": [
    "В предыдущих расчетах выяснили что в данных есть выбросы, нашли границу для их определения. В данном разделе посчитаем статистическую значимость различий в среднем кол-ве заказов на пользователя между группами по сырым данным - без удаления аномальных пользователей.\n",
    "\n",
    "Н0 = различий в среднем количестве заказов между группами нет\n",
    "Н1 = различия в среднем количестве заказов между группами есть\n",
    "\n",
    "Подготовим таблицу для расчетов:"
   ]
  },
  {
   "cell_type": "code",
   "execution_count": 31,
   "metadata": {},
   "outputs": [
    {
     "data": {
      "text/html": [
       "<div>\n",
       "<style scoped>\n",
       "    .dataframe tbody tr th:only-of-type {\n",
       "        vertical-align: middle;\n",
       "    }\n",
       "\n",
       "    .dataframe tbody tr th {\n",
       "        vertical-align: top;\n",
       "    }\n",
       "\n",
       "    .dataframe thead th {\n",
       "        text-align: right;\n",
       "    }\n",
       "</style>\n",
       "<table border=\"1\" class=\"dataframe\">\n",
       "  <thead>\n",
       "    <tr style=\"text-align: right;\">\n",
       "      <th></th>\n",
       "      <th>date</th>\n",
       "      <th>orders_daily_a</th>\n",
       "      <th>revenue_per_date_a</th>\n",
       "      <th>orders_daily_b</th>\n",
       "      <th>revenue_per_date_b</th>\n",
       "      <th>orders_cummulative_a</th>\n",
       "      <th>revenue_cummulative_a</th>\n",
       "      <th>orders_cummulative_b</th>\n",
       "      <th>revenue_cummulative_b</th>\n",
       "      <th>visitors_per_date_a</th>\n",
       "      <th>visitors_per_date_b</th>\n",
       "      <th>visitors_cummulative_a</th>\n",
       "      <th>visitors_cummulative_b</th>\n",
       "    </tr>\n",
       "  </thead>\n",
       "  <tbody>\n",
       "    <tr>\n",
       "      <th>0</th>\n",
       "      <td>2019-08-01</td>\n",
       "      <td>24</td>\n",
       "      <td>148579</td>\n",
       "      <td>21</td>\n",
       "      <td>101217</td>\n",
       "      <td>24</td>\n",
       "      <td>148579</td>\n",
       "      <td>21</td>\n",
       "      <td>101217</td>\n",
       "      <td>719</td>\n",
       "      <td>713</td>\n",
       "      <td>719</td>\n",
       "      <td>713</td>\n",
       "    </tr>\n",
       "    <tr>\n",
       "      <th>1</th>\n",
       "      <td>2019-08-02</td>\n",
       "      <td>20</td>\n",
       "      <td>93822</td>\n",
       "      <td>24</td>\n",
       "      <td>165531</td>\n",
       "      <td>44</td>\n",
       "      <td>242401</td>\n",
       "      <td>45</td>\n",
       "      <td>266748</td>\n",
       "      <td>619</td>\n",
       "      <td>581</td>\n",
       "      <td>1338</td>\n",
       "      <td>1294</td>\n",
       "    </tr>\n",
       "    <tr>\n",
       "      <th>2</th>\n",
       "      <td>2019-08-03</td>\n",
       "      <td>24</td>\n",
       "      <td>112473</td>\n",
       "      <td>16</td>\n",
       "      <td>114248</td>\n",
       "      <td>68</td>\n",
       "      <td>354874</td>\n",
       "      <td>61</td>\n",
       "      <td>380996</td>\n",
       "      <td>507</td>\n",
       "      <td>509</td>\n",
       "      <td>1845</td>\n",
       "      <td>1803</td>\n",
       "    </tr>\n",
       "    <tr>\n",
       "      <th>3</th>\n",
       "      <td>2019-08-04</td>\n",
       "      <td>16</td>\n",
       "      <td>70825</td>\n",
       "      <td>17</td>\n",
       "      <td>108571</td>\n",
       "      <td>84</td>\n",
       "      <td>425699</td>\n",
       "      <td>78</td>\n",
       "      <td>489567</td>\n",
       "      <td>717</td>\n",
       "      <td>770</td>\n",
       "      <td>2562</td>\n",
       "      <td>2573</td>\n",
       "    </tr>\n",
       "    <tr>\n",
       "      <th>4</th>\n",
       "      <td>2019-08-05</td>\n",
       "      <td>25</td>\n",
       "      <td>124218</td>\n",
       "      <td>23</td>\n",
       "      <td>92428</td>\n",
       "      <td>109</td>\n",
       "      <td>549917</td>\n",
       "      <td>101</td>\n",
       "      <td>581995</td>\n",
       "      <td>756</td>\n",
       "      <td>707</td>\n",
       "      <td>3318</td>\n",
       "      <td>3280</td>\n",
       "    </tr>\n",
       "    <tr>\n",
       "      <th>5</th>\n",
       "      <td>2019-08-06</td>\n",
       "      <td>18</td>\n",
       "      <td>48484</td>\n",
       "      <td>28</td>\n",
       "      <td>242342</td>\n",
       "      <td>127</td>\n",
       "      <td>598401</td>\n",
       "      <td>129</td>\n",
       "      <td>824337</td>\n",
       "      <td>667</td>\n",
       "      <td>655</td>\n",
       "      <td>3985</td>\n",
       "      <td>3935</td>\n",
       "    </tr>\n",
       "  </tbody>\n",
       "</table>\n",
       "</div>"
      ],
      "text/plain": [
       "        date  orders_daily_a  revenue_per_date_a  orders_daily_b  \\\n",
       "0 2019-08-01              24              148579              21   \n",
       "1 2019-08-02              20               93822              24   \n",
       "2 2019-08-03              24              112473              16   \n",
       "3 2019-08-04              16               70825              17   \n",
       "4 2019-08-05              25              124218              23   \n",
       "5 2019-08-06              18               48484              28   \n",
       "\n",
       "   revenue_per_date_b  orders_cummulative_a  revenue_cummulative_a  \\\n",
       "0              101217                    24                 148579   \n",
       "1              165531                    44                 242401   \n",
       "2              114248                    68                 354874   \n",
       "3              108571                    84                 425699   \n",
       "4               92428                   109                 549917   \n",
       "5              242342                   127                 598401   \n",
       "\n",
       "   orders_cummulative_b  revenue_cummulative_b  visitors_per_date_a  \\\n",
       "0                    21                 101217                  719   \n",
       "1                    45                 266748                  619   \n",
       "2                    61                 380996                  507   \n",
       "3                    78                 489567                  717   \n",
       "4                   101                 581995                  756   \n",
       "5                   129                 824337                  667   \n",
       "\n",
       "   visitors_per_date_b  visitors_cummulative_a  visitors_cummulative_b  \n",
       "0                  713                     719                     713  \n",
       "1                  581                    1338                    1294  \n",
       "2                  509                    1845                    1803  \n",
       "3                  770                    2562                    2573  \n",
       "4                  707                    3318                    3280  \n",
       "5                  655                    3985                    3935  "
      ]
     },
     "execution_count": 31,
     "metadata": {},
     "output_type": "execute_result"
    }
   ],
   "source": [
    "#переменная с количеством пользователей до выбранной даты включительно в группе A\n",
    "visitors_daily_a = visitors[visitors['group'] == 'A'][['date', 'visitors']]\n",
    "visitors_daily_a.columns = ['date', 'visitors_per_date_a']\n",
    "\n",
    "visitors_cummulative_a = visitors_daily_a.apply(\n",
    "    lambda x: visitors_daily_a[visitors_daily_a['date'] <= x['date']].agg(\n",
    "        {'date': 'max', 'visitors_per_date_a': 'sum'}\n",
    "    ),\n",
    "    axis=1,\n",
    ")\n",
    "visitors_cummulative_a.columns = ['date', 'visitors_cummulative_a']\n",
    "\n",
    "#переменная с количеством пользователей до выбранной даты включительно в группе B\n",
    "visitors_daily_b = visitors[visitors['group'] == 'B'][['date', 'visitors']]\n",
    "visitors_daily_b.columns = ['date', 'visitors_per_date_b']\n",
    "\n",
    "visitors_cummulative_b = visitors_daily_b.apply(\n",
    "    lambda x: visitors_daily_b[visitors_daily_b['date'] <= x['date']].agg(\n",
    "        {'date': 'max', 'visitors_per_date_b': 'sum'}\n",
    "    ),\n",
    "    axis=1,\n",
    ")\n",
    "visitors_cummulative_b.columns = ['date', 'visitors_cummulative_b']\n",
    "\n",
    "#переменная с количеством заказов по датам в группе А\n",
    "orders_daily_a = (\n",
    "    orders[orders['group'] == 'A'][['date', 'transaction_id', 'visitor_id', 'revenue']]\n",
    "    .groupby('date', as_index=False)\n",
    "    .agg({'transaction_id': pd.Series.nunique, 'revenue': 'sum'})\n",
    ")\n",
    "orders_daily_a.columns = ['date', 'orders_daily_a', 'revenue_per_date_a']\n",
    "\n",
    "#переменная с количеством заказов до выбранной даты включительно в группе A\n",
    "orders_cummulative_a = orders_daily_a.apply(\n",
    "    lambda x: orders_daily_a[orders_daily_a['date'] <= x['date']].agg(\n",
    "        {'date': 'max', 'orders_daily_a': 'sum', 'revenue_per_date_a': 'sum'}\n",
    "    ),\n",
    "    axis=1,\n",
    ").sort_values(by=['date'])\n",
    "\n",
    "orders_cummulative_a.columns = ['date','orders_cummulative_a','revenue_cummulative_a']\n",
    "\n",
    "#переменная с количеством заказов по датам в группе В\n",
    "orders_daily_b = (\n",
    "    orders[orders['group'] == 'B'][['date', 'transaction_id', 'visitor_id', 'revenue']]\n",
    "    .groupby('date', as_index=False)\n",
    "    .agg({'transaction_id': pd.Series.nunique, 'revenue': 'sum'})\n",
    ")\n",
    "orders_daily_b.columns = ['date', 'orders_daily_b', 'revenue_per_date_b']\n",
    "\n",
    "#переменная с количеством заказов до выбранной даты включительно в группе В\n",
    "orders_cummulative_b = orders_daily_b.apply(\n",
    "    lambda x: orders_daily_b[orders_daily_b['date'] <= x['date']].agg(\n",
    "        {'date': 'max', 'orders_daily_b': 'sum', 'revenue_per_date_b': 'sum'}\n",
    "    ),\n",
    "    axis=1,\n",
    ").sort_values(by=['date'])\n",
    "\n",
    "orders_cummulative_b.columns = ['date','orders_cummulative_b','revenue_cummulative_b']\n",
    "\n",
    "\n",
    "data = (\n",
    "    orders_daily_a.merge(\n",
    "        orders_daily_b, left_on='date', right_on='date', how='left'\n",
    "    )\n",
    "    .merge(orders_cummulative_a, left_on='date', right_on='date', how='left')\n",
    "    .merge(orders_cummulative_b, left_on='date', right_on='date', how='left')\n",
    "    .merge(visitors_daily_a, left_on='date', right_on='date', how='left')\n",
    "    .merge(visitors_daily_b, left_on='date', right_on='date', how='left')\n",
    "    .merge(visitors_cummulative_a, left_on='date', right_on='date', how='left')\n",
    "    .merge(visitors_cummulative_b, left_on='date', right_on='date', how='left')\n",
    ")\n",
    "\n",
    "data.head(6)"
   ]
  },
  {
   "cell_type": "code",
   "execution_count": 32,
   "metadata": {},
   "outputs": [],
   "source": [
    "#переменные orders_by_users_a и orders_by_users_b\n",
    "orders_by_users_a = (\n",
    "    orders[orders['group'] == 'A']\n",
    "    .groupby('visitor_id', as_index=False)\n",
    "    .agg({'transaction_id': pd.Series.nunique})\n",
    ")\n",
    "orders_by_users_a.columns = ['visitor_id', 'orders']\n",
    "\n",
    "orders_by_users_b = (\n",
    "    orders[orders['group'] == 'B']\n",
    "    .groupby('visitor_id', as_index=False)\n",
    "    .agg({'transaction_id': pd.Series.nunique})\n",
    ")\n",
    "orders_by_users_b.columns = ['visitor_id', 'orders']"
   ]
  },
  {
   "cell_type": "markdown",
   "metadata": {},
   "source": [
    "Объявим переменные sample_a и sample_b, в которых пользователям из разных групп будет соответствовать количество заказов. Тем, кто ничего не заказал, будут соответствовать нули. Это нужно, чтобы подготовить выборки к проверке критерием Манна-Уитни."
   ]
  },
  {
   "cell_type": "code",
   "execution_count": 33,
   "metadata": {},
   "outputs": [],
   "source": [
    "sample_a = pd.concat([orders_by_users_a['orders'],\n",
    "                      pd.Series(\n",
    "                          0, \n",
    "                          index=np.arange(data['visitors_per_date_a'].sum() - \n",
    "                                          len(orders_by_users_a['orders'])), \n",
    "                          name='orders')],axis=0\n",
    "                    )\n",
    "\n",
    "sample_b = pd.concat([orders_by_users_b['orders'],\n",
    "                      pd.Series(\n",
    "                          0, \n",
    "                          index=np.arange(data['visitors_per_date_b'].sum() - \n",
    "                                          len(orders_by_users_b['orders'])), \n",
    "                          name='orders')],axis=0\n",
    "                    )"
   ]
  },
  {
   "cell_type": "code",
   "execution_count": 34,
   "metadata": {},
   "outputs": [],
   "source": [
    "# Функция для проверки гипотезы о равенстве групп data A и data B\n",
    "def stat_hyp (data_a, data_b):\n",
    "    alpha = 0.05\n",
    "    p_value = stats.mannwhitneyu(data_a, data_b)[1]\n",
    "    print(\"P-value: {0:.3f}\".format(p_value))\n",
    "\n",
    "    if (p_value < alpha):\n",
    "        print(\"Отвергаем нулевую гипотезу: между группами есть разница\")\n",
    "    else:\n",
    "        print(\"Не получилось отвергнуть нулевую гипотезу, нет оснований считать группы разными\")\n",
    "    \n",
    "    print(\"Относительный прирост В к А: {0:.3%}\".format(data_b.mean() / data_a.mean()-1))"
   ]
  },
  {
   "cell_type": "code",
   "execution_count": 35,
   "metadata": {},
   "outputs": [
    {
     "name": "stdout",
     "output_type": "stream",
     "text": [
      "P-value: 0.017\n",
      "Отвергаем нулевую гипотезу: между группами есть разница\n",
      "Относительный прирост В к А: 13.808%\n"
     ]
    }
   ],
   "source": [
    "stat_hyp (sample_a, sample_b)"
   ]
  },
  {
   "cell_type": "markdown",
   "metadata": {},
   "source": [
    "по неочищенным данным между группами есть различия. Относительный проигрыш группы А равен 13,8%"
   ]
  },
  {
   "cell_type": "markdown",
   "metadata": {},
   "source": [
    "<div class=\"alert alert\" style=\"border-radius: 10px; box-shadow: 2px 2px 2px; border: 1px solid; padding: 10px \"> \n",
    "<b> 11. Статистическая значимость различий в среднем чеке заказа между группами по сырым данным</b>"
   ]
  },
  {
   "cell_type": "code",
   "execution_count": 36,
   "metadata": {
    "scrolled": true
   },
   "outputs": [
    {
     "name": "stdout",
     "output_type": "stream",
     "text": [
      "P-value: 0.729\n",
      "Не получилось отвергнуть нулевую гипотезу, нет оснований считать группы разными\n",
      "Относительный прирост В к А: 25.871%\n"
     ]
    }
   ],
   "source": [
    "stat_hyp(orders[orders['group']=='A']['revenue'], orders[orders['group']=='B']['revenue'])"
   ]
  },
  {
   "cell_type": "markdown",
   "metadata": {},
   "source": [
    "P-value больше 0.05. Значит, причин отвергать нулевую гипотезу и считать, что в среднем чеке есть различия, нет. Но средний чек группы B  выше среднего чека группы A на 25.87%"
   ]
  },
  {
   "cell_type": "markdown",
   "metadata": {},
   "source": [
    "<div class=\"alert alert\" style=\"border-radius: 10px; box-shadow: 2px 2px 2px; border: 1px solid; padding: 10px \"> \n",
    "<b> 12. Расчет статистической значимости различий в среднем кол-ве заказов на посетителя между группами по \"очищенным\" данным</b>"
   ]
  },
  {
   "cell_type": "code",
   "execution_count": 37,
   "metadata": {},
   "outputs": [
    {
     "name": "stdout",
     "output_type": "stream",
     "text": [
      "Всего аномальных пользователей: 15\n"
     ]
    }
   ],
   "source": [
    "#сначала посчитаем аномальных пользователей\n",
    "max_count_orders = np.percentile(orders_by_users['orders'], 99)\n",
    "most_expensive_orders = np.percentile(orders['revenue'], 99)\n",
    "\n",
    "\n",
    "many_orders_us = pd.concat(\n",
    "    [\n",
    "        orders_by_users_a[orders_by_users_a['orders'] > max_count_orders]['visitor_id'],\n",
    "        orders_by_users_b[orders_by_users_b['orders'] > max_count_orders]['visitor_id'],\n",
    "    ],\n",
    "    axis=0,\n",
    ")\n",
    "\n",
    "\n",
    "expensive_orders_us = orders[orders['revenue'] > most_expensive_orders]['visitor_id']\n",
    "\n",
    "\n",
    "abnormal_users = (\n",
    "    pd.concat([many_orders_us, expensive_orders_us], axis=0)\n",
    "    .drop_duplicates()\n",
    "    .sort_values()\n",
    ")\n",
    "print('Всего аномальных пользователей:', abnormal_users.shape[0])"
   ]
  },
  {
   "cell_type": "code",
   "execution_count": 38,
   "metadata": {},
   "outputs": [
    {
     "name": "stdout",
     "output_type": "stream",
     "text": [
      "P-value: 0.014\n",
      "Отвергаем нулевую гипотезу: между группами есть разница\n",
      "Относительный прирост В к А: 15.331%\n"
     ]
    }
   ],
   "source": [
    "sample_a_filtered = pd.concat(\n",
    "    [\n",
    "        orders_by_users_a[\n",
    "            np.logical_not(orders_by_users_a['visitor_id'].isin(abnormal_users))\n",
    "        ]['orders'],\n",
    "        pd.Series(\n",
    "            0,\n",
    "            index=np.arange(\n",
    "                data['visitors_per_date_a'].sum() - len(orders_by_users_a['orders'])\n",
    "            ),\n",
    "            name='orders',\n",
    "        ),\n",
    "    ],\n",
    "    axis=0,\n",
    ")\n",
    "\n",
    "sample_b_filtered = pd.concat(\n",
    "    [\n",
    "        orders_by_users_b[\n",
    "            np.logical_not(orders_by_users_b['visitor_id'].isin(abnormal_users))\n",
    "        ]['orders'],\n",
    "        pd.Series(\n",
    "            0,\n",
    "            index=np.arange(\n",
    "                data['visitors_per_date_b'].sum() - len(orders_by_users_b['orders'])\n",
    "            ),\n",
    "            name='orders',\n",
    "        ),\n",
    "    ],\n",
    "    axis=0,\n",
    ")\n",
    "\n",
    "stat_hyp(sample_a_filtered, sample_b_filtered)"
   ]
  },
  {
   "cell_type": "markdown",
   "metadata": {},
   "source": [
    "в очищенных данных напротив, разница между группами есть. относительный прирост группы В к группе А тоже вырос"
   ]
  },
  {
   "cell_type": "markdown",
   "metadata": {},
   "source": [
    "<div class=\"alert alert\" style=\"border-radius: 10px; box-shadow: 2px 2px 2px; border: 1px solid; padding: 10px \"> \n",
    "<b> 13. Статистическая значимость различий в среднем чеке заказа между группами по очищенным данным</b>"
   ]
  },
  {
   "cell_type": "code",
   "execution_count": 39,
   "metadata": {},
   "outputs": [
    {
     "name": "stdout",
     "output_type": "stream",
     "text": [
      "P-value: 0.851\n",
      "Не получилось отвергнуть нулевую гипотезу, нет оснований считать группы разными\n",
      "Относительный прирост В к А: -0.575%\n"
     ]
    }
   ],
   "source": [
    "stat_hyp(\n",
    "    orders[(orders['group']=='A') & np.logical_not(orders['visitor_id'].isin(abnormal_users))]['revenue'], \n",
    "    orders[(orders['group']=='B') & np.logical_not(orders['visitor_id'].isin(abnormal_users))]['revenue']\n",
    "                  )"
   ]
  },
  {
   "cell_type": "markdown",
   "metadata": {},
   "source": [
    "Относительный прирост группы В к группе А после удаления выбросов составил -0.575%"
   ]
  },
  {
   "cell_type": "markdown",
   "metadata": {},
   "source": [
    "<div class=\"alert alert\" style=\"border-radius: 10px; box-shadow: 2px 2px 2px; border: 1px solid; padding: 10px \"> \n",
    "<b> 14. Результаты теста и выводы</b>"
   ]
  },
  {
   "cell_type": "markdown",
   "metadata": {},
   "source": [
    "1. В первой части исследования были рассмотрены 9 гипотез по увеличению выручки в интернет-магазине с помощью способа приоритизации задач ICE/RICE. По итогам этого исследования выявлено, что  стоит обратить внимание на следующие гипотезы:\n",
    "\n",
    "    - Добавить форму подписки на все основные страницы, чтобы собрать базу клиентов для email-рассылок;\n",
    "    - Добавить блоки рекомендаций товаров на сайт интернет магазина, чтобы повысить конверсию и средний чек заказа;\n",
    "    - Добавить два новых канала привлечения трафика, что позволит привлекать на 30% больше пользователей;\n",
    "    - Показать на главной странице баннеры с актуальными акциями и распродажами, чтобы увеличить конверсию;\n",
    "    - Запустить акцию, дающую скидку на товар в день рождения\n",
    "\n",
    "Данные гипотезы отсортированы по убыванию значимости по показателю RICE, который учитывает охват аудитории. Таким образом акция, дающая скидку на товар в день рождения попала в эту выборку, но на последнее место. Она имеет высокие показатели Impact и confidence, но охватывает очень малое количество аудитории.\n",
    "\n",
    "2. Во второй части был проведен анализ результатов А/В теста и получены следующие результаты:\n",
    "\n",
    "    - при построении графика куммулятивной выручки по группам был обнаружен резкий рост выручки в группе В в середине теста. Сформировано предположение что на этот рост могли повлиять \"выбросы\";\n",
    "    - при построении графика кумулятивного среднего чека по группам, в группе В так же уровень среднего чека выше;\n",
    "    - при построении графика относительного изменения кумулятивного среднего чека группы В к группе А были выявлены несколько всплесков, которые могут свидетельствовать о наличии аномально высоких заказов;\n",
    "    - при построении графика кумулятивного среднего количества заказов на посетителя по группам, то в начале эксперимента группы колебались симметрично, но потом конверсия группы А просела, а конверсия группы В наоборот, выросла;\n",
    "    - при построении графика относительного изменения кумулятивного среднего кол-ва заказов на посетителя группы В к группе А. Уже в начале теста группа В лидирует по конверсии, в середине теста достигла прироста 20% относительно группы А, однако потом началось снижение. Но все равно конверсия находится к концу теста в промежутке 10-15% прироста.\n",
    "    - были выявлены аномальные значения: для количества покупок - меньше 4х, для стоимости заказа - 58 233,20 и более;\n",
    "    - для расчета статистической значимости различий в среднем кол-ве заказов на посетителя между группами данным сформулированы гипотезы \n",
    "    \n",
    "            Н0 = различий в среднем количестве заказов между группами нет \n",
    "            Н1 = различия в среднем количестве заказов между группами есть\n",
    "            \n",
    "    - При расчете статистической значимости различий в среднем кол-ве заказов на посетителя между группами по \"сырым\" и \"очищенным\" данным было выявлено: P-value в обоих случаях меньше 0,05, в связи с чем мы отвергаем нулевую гипотезу: между группами есть разница. И относительный прирост группы В к группе А составил 13.808% в случае с \"сырыми\" данными и 15.331% в случае с \"очищенными\";\n",
    "    \n",
    "    - При расчете статистической значимости различий в среднем чеке заказа между группами по \"сырым\" и \"очищенным\" данным было выявлено: P-value в обоих случаях больше установленного предельного значения, в связи с чем е получилось отвергнуть нулевую гипотезу, нет оснований считать группы разными. Относительный прирост группы В к группе А после удаления выбросов составил -0.575%;\n",
    "    \n",
    "    ВЫВОД:\n",
    "    Результаты группы В стабильно лучше результатов группы А, статитстической значимости различий по среднему чеку между группами не выявлено, однако есть ощутимый рост конверсии в группе В. На основании вышеизложенного рекомендуется остановить тест, зафиксировав победу группы B\n"
   ]
  }
 ],
 "metadata": {
  "ExecuteTimeLog": [
   {
    "duration": 111,
    "start_time": "2023-07-31T08:57:47.050Z"
   },
   {
    "duration": 73,
    "start_time": "2023-07-31T08:58:01.713Z"
   },
   {
    "duration": 831,
    "start_time": "2023-07-31T08:58:06.046Z"
   },
   {
    "duration": 349,
    "start_time": "2023-07-31T08:58:08.415Z"
   },
   {
    "duration": 8,
    "start_time": "2023-07-31T08:58:38.265Z"
   },
   {
    "duration": 12,
    "start_time": "2023-07-31T09:01:52.679Z"
   },
   {
    "duration": 67,
    "start_time": "2023-07-31T09:04:27.509Z"
   },
   {
    "duration": 7,
    "start_time": "2023-07-31T09:05:29.738Z"
   },
   {
    "duration": 7,
    "start_time": "2023-07-31T09:06:03.491Z"
   },
   {
    "duration": 7,
    "start_time": "2023-07-31T09:11:23.784Z"
   },
   {
    "duration": 10,
    "start_time": "2023-07-31T09:11:47.903Z"
   },
   {
    "duration": 9,
    "start_time": "2023-07-31T09:12:51.368Z"
   },
   {
    "duration": 15,
    "start_time": "2023-07-31T09:13:05.719Z"
   },
   {
    "duration": 7,
    "start_time": "2023-07-31T09:13:13.248Z"
   },
   {
    "duration": 9,
    "start_time": "2023-07-31T09:13:26.970Z"
   },
   {
    "duration": 8,
    "start_time": "2023-07-31T09:14:57.065Z"
   },
   {
    "duration": 766,
    "start_time": "2023-07-31T09:15:06.471Z"
   },
   {
    "duration": 84,
    "start_time": "2023-07-31T09:15:07.253Z"
   },
   {
    "duration": 20,
    "start_time": "2023-07-31T09:15:07.344Z"
   },
   {
    "duration": 22,
    "start_time": "2023-07-31T09:15:07.367Z"
   },
   {
    "duration": 42,
    "start_time": "2023-07-31T09:15:07.391Z"
   },
   {
    "duration": 15,
    "start_time": "2023-07-31T09:15:29.942Z"
   },
   {
    "duration": 780,
    "start_time": "2023-07-31T09:15:40.762Z"
   },
   {
    "duration": 99,
    "start_time": "2023-07-31T09:15:41.548Z"
   },
   {
    "duration": 15,
    "start_time": "2023-07-31T09:15:41.650Z"
   },
   {
    "duration": 13,
    "start_time": "2023-07-31T09:15:41.667Z"
   },
   {
    "duration": 10,
    "start_time": "2023-07-31T09:15:41.681Z"
   },
   {
    "duration": 11,
    "start_time": "2023-07-31T09:17:35.061Z"
   },
   {
    "duration": 10,
    "start_time": "2023-07-31T09:23:16.001Z"
   },
   {
    "duration": 19,
    "start_time": "2023-07-31T09:23:55.454Z"
   },
   {
    "duration": 9,
    "start_time": "2023-07-31T09:24:49.889Z"
   },
   {
    "duration": 15,
    "start_time": "2023-07-31T09:25:09.855Z"
   },
   {
    "duration": 11,
    "start_time": "2023-07-31T09:25:41.975Z"
   },
   {
    "duration": 792,
    "start_time": "2023-07-31T09:26:11.757Z"
   },
   {
    "duration": 99,
    "start_time": "2023-07-31T09:26:12.559Z"
   },
   {
    "duration": 12,
    "start_time": "2023-07-31T09:26:12.660Z"
   },
   {
    "duration": 8,
    "start_time": "2023-07-31T09:26:12.673Z"
   },
   {
    "duration": 12,
    "start_time": "2023-07-31T09:26:12.682Z"
   },
   {
    "duration": 10,
    "start_time": "2023-07-31T09:26:12.696Z"
   },
   {
    "duration": 51,
    "start_time": "2023-07-31T09:27:18.910Z"
   },
   {
    "duration": 18,
    "start_time": "2023-07-31T09:28:12.563Z"
   },
   {
    "duration": 19,
    "start_time": "2023-07-31T09:28:31.342Z"
   },
   {
    "duration": 857,
    "start_time": "2023-07-31T09:28:44.117Z"
   },
   {
    "duration": 102,
    "start_time": "2023-07-31T09:28:44.978Z"
   },
   {
    "duration": 14,
    "start_time": "2023-07-31T09:28:45.081Z"
   },
   {
    "duration": 84,
    "start_time": "2023-07-31T09:28:45.096Z"
   },
   {
    "duration": 57,
    "start_time": "2023-07-31T09:28:45.183Z"
   },
   {
    "duration": 51,
    "start_time": "2023-07-31T09:28:45.242Z"
   },
   {
    "duration": 27,
    "start_time": "2023-07-31T09:33:47.736Z"
   },
   {
    "duration": 771,
    "start_time": "2023-07-31T09:36:22.638Z"
   },
   {
    "duration": 102,
    "start_time": "2023-07-31T09:36:23.412Z"
   },
   {
    "duration": 29,
    "start_time": "2023-07-31T09:36:23.516Z"
   },
   {
    "duration": 25,
    "start_time": "2023-07-31T09:36:23.548Z"
   },
   {
    "duration": 14,
    "start_time": "2023-07-31T09:36:23.575Z"
   },
   {
    "duration": 13,
    "start_time": "2023-07-31T09:36:23.591Z"
   },
   {
    "duration": 12,
    "start_time": "2023-07-31T09:47:18.166Z"
   },
   {
    "duration": 5,
    "start_time": "2023-07-31T09:49:56.958Z"
   },
   {
    "duration": 18,
    "start_time": "2023-07-31T09:50:05.763Z"
   },
   {
    "duration": 10,
    "start_time": "2023-07-31T09:50:21.959Z"
   },
   {
    "duration": 16,
    "start_time": "2023-07-31T09:51:28.652Z"
   },
   {
    "duration": 9,
    "start_time": "2023-07-31T09:51:42.370Z"
   },
   {
    "duration": 19,
    "start_time": "2023-07-31T09:54:04.644Z"
   },
   {
    "duration": 836,
    "start_time": "2023-07-31T11:12:00.915Z"
   },
   {
    "duration": 100,
    "start_time": "2023-07-31T11:12:01.753Z"
   },
   {
    "duration": 13,
    "start_time": "2023-07-31T11:12:01.855Z"
   },
   {
    "duration": 118,
    "start_time": "2023-07-31T11:12:01.870Z"
   },
   {
    "duration": 63,
    "start_time": "2023-07-31T11:12:01.990Z"
   },
   {
    "duration": 51,
    "start_time": "2023-07-31T11:12:02.054Z"
   },
   {
    "duration": 70,
    "start_time": "2023-07-31T11:12:02.106Z"
   },
   {
    "duration": 82,
    "start_time": "2023-07-31T11:12:02.178Z"
   },
   {
    "duration": 8,
    "start_time": "2023-07-31T11:12:59.742Z"
   },
   {
    "duration": 5,
    "start_time": "2023-07-31T11:13:39.869Z"
   },
   {
    "duration": 13,
    "start_time": "2023-07-31T11:14:07.338Z"
   },
   {
    "duration": 4,
    "start_time": "2023-07-31T11:15:39.653Z"
   },
   {
    "duration": 4,
    "start_time": "2023-07-31T11:15:43.048Z"
   },
   {
    "duration": 5,
    "start_time": "2023-07-31T11:15:44.468Z"
   },
   {
    "duration": 11,
    "start_time": "2023-07-31T11:16:08.676Z"
   },
   {
    "duration": 18,
    "start_time": "2023-07-31T11:16:16.745Z"
   },
   {
    "duration": 5,
    "start_time": "2023-07-31T11:24:23.555Z"
   },
   {
    "duration": 326,
    "start_time": "2023-07-31T11:26:52.690Z"
   },
   {
    "duration": 161,
    "start_time": "2023-07-31T11:26:58.854Z"
   },
   {
    "duration": 180,
    "start_time": "2023-07-31T11:27:57.119Z"
   },
   {
    "duration": 145,
    "start_time": "2023-07-31T11:31:03.970Z"
   },
   {
    "duration": 36,
    "start_time": "2023-07-31T11:32:34.313Z"
   },
   {
    "duration": 124,
    "start_time": "2023-07-31T11:33:05.967Z"
   },
   {
    "duration": 9,
    "start_time": "2023-07-31T11:45:13.375Z"
   },
   {
    "duration": 1592,
    "start_time": "2023-07-31T11:45:55.666Z"
   },
   {
    "duration": 146,
    "start_time": "2023-07-31T11:45:57.262Z"
   },
   {
    "duration": 21,
    "start_time": "2023-07-31T11:45:57.410Z"
   },
   {
    "duration": 12,
    "start_time": "2023-07-31T11:45:57.446Z"
   },
   {
    "duration": 18,
    "start_time": "2023-07-31T11:45:57.461Z"
   },
   {
    "duration": 13,
    "start_time": "2023-07-31T11:45:57.480Z"
   },
   {
    "duration": 14,
    "start_time": "2023-07-31T11:45:57.495Z"
   },
   {
    "duration": 60,
    "start_time": "2023-07-31T11:45:57.511Z"
   },
   {
    "duration": 14,
    "start_time": "2023-07-31T11:45:57.573Z"
   },
   {
    "duration": 11,
    "start_time": "2023-07-31T11:45:57.589Z"
   },
   {
    "duration": 43,
    "start_time": "2023-07-31T11:45:57.602Z"
   },
   {
    "duration": 28,
    "start_time": "2023-07-31T11:45:57.646Z"
   },
   {
    "duration": 44,
    "start_time": "2023-07-31T11:45:57.675Z"
   },
   {
    "duration": 223,
    "start_time": "2023-07-31T11:45:57.729Z"
   },
   {
    "duration": 135,
    "start_time": "2023-07-31T11:45:57.954Z"
   },
   {
    "duration": 10,
    "start_time": "2023-07-31T11:45:58.090Z"
   },
   {
    "duration": 7,
    "start_time": "2023-07-31T11:49:07.059Z"
   },
   {
    "duration": 279,
    "start_time": "2023-07-31T11:50:55.548Z"
   },
   {
    "duration": 187,
    "start_time": "2023-07-31T12:07:54.300Z"
   },
   {
    "duration": 109,
    "start_time": "2023-07-31T12:11:17.469Z"
   },
   {
    "duration": 309,
    "start_time": "2023-07-31T12:20:19.157Z"
   },
   {
    "duration": 236,
    "start_time": "2023-07-31T12:20:47.076Z"
   },
   {
    "duration": 331,
    "start_time": "2023-07-31T12:21:31.314Z"
   },
   {
    "duration": 254,
    "start_time": "2023-07-31T12:21:40.537Z"
   },
   {
    "duration": 210,
    "start_time": "2023-07-31T12:47:52.981Z"
   },
   {
    "duration": 381,
    "start_time": "2023-07-31T13:00:10.612Z"
   },
   {
    "duration": 299,
    "start_time": "2023-07-31T13:00:42.315Z"
   },
   {
    "duration": 383,
    "start_time": "2023-07-31T13:17:37.675Z"
   },
   {
    "duration": 156,
    "start_time": "2023-07-31T13:26:26.147Z"
   },
   {
    "duration": 143,
    "start_time": "2023-07-31T13:27:44.742Z"
   },
   {
    "duration": 125,
    "start_time": "2023-07-31T13:27:53.288Z"
   },
   {
    "duration": 165,
    "start_time": "2023-07-31T13:28:16.492Z"
   },
   {
    "duration": 142,
    "start_time": "2023-07-31T13:28:37.647Z"
   },
   {
    "duration": 26,
    "start_time": "2023-07-31T13:28:49.604Z"
   },
   {
    "duration": 8,
    "start_time": "2023-07-31T13:29:28.058Z"
   },
   {
    "duration": 13,
    "start_time": "2023-07-31T13:31:01.755Z"
   },
   {
    "duration": 6,
    "start_time": "2023-07-31T13:35:18.750Z"
   },
   {
    "duration": 5,
    "start_time": "2023-07-31T13:36:02.868Z"
   },
   {
    "duration": 199,
    "start_time": "2023-07-31T13:45:35.254Z"
   },
   {
    "duration": 28,
    "start_time": "2023-07-31T13:50:47.617Z"
   },
   {
    "duration": 11,
    "start_time": "2023-07-31T13:53:29.466Z"
   },
   {
    "duration": 109,
    "start_time": "2023-07-31T13:53:38.455Z"
   },
   {
    "duration": 5,
    "start_time": "2023-07-31T13:57:35.749Z"
   },
   {
    "duration": 4,
    "start_time": "2023-07-31T13:58:14.206Z"
   },
   {
    "duration": 4,
    "start_time": "2023-07-31T14:03:38.214Z"
   },
   {
    "duration": 132,
    "start_time": "2023-07-31T14:07:44.543Z"
   },
   {
    "duration": 1240,
    "start_time": "2023-08-01T11:18:22.900Z"
   },
   {
    "duration": 260,
    "start_time": "2023-08-01T11:18:24.143Z"
   },
   {
    "duration": 15,
    "start_time": "2023-08-01T11:18:24.404Z"
   },
   {
    "duration": 3,
    "start_time": "2023-08-01T11:18:24.422Z"
   },
   {
    "duration": 21,
    "start_time": "2023-08-01T11:18:24.427Z"
   },
   {
    "duration": 22,
    "start_time": "2023-08-01T11:18:24.449Z"
   },
   {
    "duration": 17,
    "start_time": "2023-08-01T11:18:24.473Z"
   },
   {
    "duration": 26,
    "start_time": "2023-08-01T11:18:24.492Z"
   },
   {
    "duration": 21,
    "start_time": "2023-08-01T11:18:24.520Z"
   },
   {
    "duration": 17,
    "start_time": "2023-08-01T11:18:24.542Z"
   },
   {
    "duration": 16,
    "start_time": "2023-08-01T11:18:24.561Z"
   },
   {
    "duration": 18,
    "start_time": "2023-08-01T11:18:24.578Z"
   },
   {
    "duration": 16,
    "start_time": "2023-08-01T11:18:24.597Z"
   },
   {
    "duration": 157,
    "start_time": "2023-08-01T11:18:24.616Z"
   },
   {
    "duration": 121,
    "start_time": "2023-08-01T11:18:24.774Z"
   },
   {
    "duration": 9,
    "start_time": "2023-08-01T11:18:24.896Z"
   },
   {
    "duration": 11,
    "start_time": "2023-08-01T11:18:24.906Z"
   },
   {
    "duration": 244,
    "start_time": "2023-08-01T11:18:24.919Z"
   },
   {
    "duration": 178,
    "start_time": "2023-08-01T11:18:25.165Z"
   },
   {
    "duration": 362,
    "start_time": "2023-08-01T11:18:25.345Z"
   },
   {
    "duration": 185,
    "start_time": "2023-08-01T11:18:25.709Z"
   },
   {
    "duration": 307,
    "start_time": "2023-08-01T11:18:25.896Z"
   },
   {
    "duration": 12,
    "start_time": "2023-08-01T11:18:26.205Z"
   },
   {
    "duration": 120,
    "start_time": "2023-08-01T11:18:26.218Z"
   },
   {
    "duration": 3,
    "start_time": "2023-08-01T11:18:26.340Z"
   },
   {
    "duration": 144,
    "start_time": "2023-08-01T11:18:26.345Z"
   },
   {
    "duration": 9,
    "start_time": "2023-08-01T11:18:26.491Z"
   },
   {
    "duration": 7,
    "start_time": "2023-08-01T11:18:26.502Z"
   },
   {
    "duration": 117,
    "start_time": "2023-08-01T11:25:54.831Z"
   },
   {
    "duration": 112,
    "start_time": "2023-08-01T11:26:06.661Z"
   },
   {
    "duration": 166,
    "start_time": "2023-08-01T11:26:47.569Z"
   },
   {
    "duration": 107,
    "start_time": "2023-08-01T11:26:55.416Z"
   },
   {
    "duration": 102,
    "start_time": "2023-08-01T11:27:09.671Z"
   },
   {
    "duration": 134,
    "start_time": "2023-08-01T11:28:44.587Z"
   },
   {
    "duration": 130,
    "start_time": "2023-08-01T11:29:09.020Z"
   },
   {
    "duration": 206,
    "start_time": "2023-08-01T11:37:21.798Z"
   },
   {
    "duration": 161,
    "start_time": "2023-08-01T11:44:37.988Z"
   },
   {
    "duration": 5,
    "start_time": "2023-08-01T11:46:23.079Z"
   },
   {
    "duration": 3,
    "start_time": "2023-08-01T11:47:45.935Z"
   },
   {
    "duration": 26,
    "start_time": "2023-08-01T11:47:59.596Z"
   },
   {
    "duration": 1154,
    "start_time": "2023-08-02T08:20:36.047Z"
   },
   {
    "duration": 253,
    "start_time": "2023-08-02T08:20:37.204Z"
   },
   {
    "duration": 11,
    "start_time": "2023-08-02T08:20:37.459Z"
   },
   {
    "duration": 10,
    "start_time": "2023-08-02T08:20:37.471Z"
   },
   {
    "duration": 25,
    "start_time": "2023-08-02T08:20:37.482Z"
   },
   {
    "duration": 19,
    "start_time": "2023-08-02T08:20:37.508Z"
   },
   {
    "duration": 23,
    "start_time": "2023-08-02T08:20:37.529Z"
   },
   {
    "duration": 24,
    "start_time": "2023-08-02T08:20:37.554Z"
   },
   {
    "duration": 7,
    "start_time": "2023-08-02T08:20:37.579Z"
   },
   {
    "duration": 18,
    "start_time": "2023-08-02T08:20:37.589Z"
   },
   {
    "duration": 14,
    "start_time": "2023-08-02T08:20:37.608Z"
   },
   {
    "duration": 7,
    "start_time": "2023-08-02T08:20:37.624Z"
   },
   {
    "duration": 9,
    "start_time": "2023-08-02T08:20:37.632Z"
   },
   {
    "duration": 157,
    "start_time": "2023-08-02T08:20:37.642Z"
   },
   {
    "duration": 106,
    "start_time": "2023-08-02T08:20:37.801Z"
   },
   {
    "duration": 8,
    "start_time": "2023-08-02T08:20:37.909Z"
   },
   {
    "duration": 7,
    "start_time": "2023-08-02T08:20:37.918Z"
   },
   {
    "duration": 243,
    "start_time": "2023-08-02T08:20:37.926Z"
   },
   {
    "duration": 167,
    "start_time": "2023-08-02T08:20:38.171Z"
   },
   {
    "duration": 272,
    "start_time": "2023-08-02T08:20:38.339Z"
   },
   {
    "duration": 180,
    "start_time": "2023-08-02T08:20:38.613Z"
   },
   {
    "duration": 308,
    "start_time": "2023-08-02T08:20:38.795Z"
   },
   {
    "duration": 11,
    "start_time": "2023-08-02T08:20:39.105Z"
   },
   {
    "duration": 114,
    "start_time": "2023-08-02T08:20:39.117Z"
   },
   {
    "duration": 4,
    "start_time": "2023-08-02T08:20:39.232Z"
   },
   {
    "duration": 128,
    "start_time": "2023-08-02T08:20:39.238Z"
   },
   {
    "duration": 7,
    "start_time": "2023-08-02T08:20:39.367Z"
   },
   {
    "duration": 5,
    "start_time": "2023-08-02T08:20:39.377Z"
   },
   {
    "duration": 223,
    "start_time": "2023-08-02T08:20:39.384Z"
   },
   {
    "duration": 140,
    "start_time": "2023-08-02T08:20:39.608Z"
   },
   {
    "duration": 6,
    "start_time": "2023-08-02T08:20:39.749Z"
   },
   {
    "duration": 41,
    "start_time": "2023-08-02T08:20:39.757Z"
   },
   {
    "duration": 40,
    "start_time": "2023-08-02T08:20:39.799Z"
   },
   {
    "duration": 103,
    "start_time": "2023-08-02T08:27:32.206Z"
   },
   {
    "duration": 4,
    "start_time": "2023-08-02T08:27:35.280Z"
   },
   {
    "duration": 20,
    "start_time": "2023-08-02T08:27:36.315Z"
   },
   {
    "duration": 190,
    "start_time": "2023-08-02T08:33:00.526Z"
   },
   {
    "duration": 5,
    "start_time": "2023-08-02T08:33:38.944Z"
   },
   {
    "duration": 3,
    "start_time": "2023-08-02T08:33:41.281Z"
   },
   {
    "duration": 19,
    "start_time": "2023-08-02T08:33:41.904Z"
   },
   {
    "duration": 12,
    "start_time": "2023-08-02T08:40:34.473Z"
   },
   {
    "duration": 10,
    "start_time": "2023-08-02T08:41:20.807Z"
   },
   {
    "duration": 9,
    "start_time": "2023-08-02T08:49:22.781Z"
   },
   {
    "duration": 13,
    "start_time": "2023-08-02T08:50:03.392Z"
   },
   {
    "duration": 13,
    "start_time": "2023-08-02T08:51:29.150Z"
   },
   {
    "duration": 9,
    "start_time": "2023-08-02T08:52:47.131Z"
   },
   {
    "duration": 10,
    "start_time": "2023-08-02T08:55:04.272Z"
   },
   {
    "duration": 16,
    "start_time": "2023-08-02T08:56:01.394Z"
   },
   {
    "duration": 25,
    "start_time": "2023-08-02T08:56:22.826Z"
   },
   {
    "duration": 216,
    "start_time": "2023-08-02T08:57:46.737Z"
   },
   {
    "duration": 282,
    "start_time": "2023-08-02T08:58:31.334Z"
   },
   {
    "duration": 8,
    "start_time": "2023-08-02T08:59:04.350Z"
   },
   {
    "duration": 1198,
    "start_time": "2023-08-02T12:13:41.645Z"
   },
   {
    "duration": 149,
    "start_time": "2023-08-02T12:13:42.845Z"
   },
   {
    "duration": 16,
    "start_time": "2023-08-02T12:13:42.996Z"
   },
   {
    "duration": 58,
    "start_time": "2023-08-02T12:13:43.018Z"
   },
   {
    "duration": 61,
    "start_time": "2023-08-02T12:13:43.078Z"
   },
   {
    "duration": 46,
    "start_time": "2023-08-02T12:13:43.141Z"
   },
   {
    "duration": 31,
    "start_time": "2023-08-02T12:13:43.188Z"
   },
   {
    "duration": 66,
    "start_time": "2023-08-02T12:13:43.221Z"
   },
   {
    "duration": 115,
    "start_time": "2023-08-02T12:13:43.288Z"
   },
   {
    "duration": 120,
    "start_time": "2023-08-02T12:13:43.412Z"
   },
   {
    "duration": 62,
    "start_time": "2023-08-02T12:13:43.535Z"
   },
   {
    "duration": 72,
    "start_time": "2023-08-02T12:13:43.600Z"
   },
   {
    "duration": 29,
    "start_time": "2023-08-02T12:13:43.673Z"
   },
   {
    "duration": 209,
    "start_time": "2023-08-02T12:13:43.705Z"
   },
   {
    "duration": 136,
    "start_time": "2023-08-02T12:13:43.915Z"
   },
   {
    "duration": 10,
    "start_time": "2023-08-02T12:13:44.052Z"
   },
   {
    "duration": 58,
    "start_time": "2023-08-02T12:13:44.063Z"
   },
   {
    "duration": 272,
    "start_time": "2023-08-02T12:13:44.122Z"
   },
   {
    "duration": 169,
    "start_time": "2023-08-02T12:13:44.396Z"
   },
   {
    "duration": 270,
    "start_time": "2023-08-02T12:13:44.567Z"
   },
   {
    "duration": 247,
    "start_time": "2023-08-02T12:13:44.839Z"
   },
   {
    "duration": 339,
    "start_time": "2023-08-02T12:13:45.088Z"
   },
   {
    "duration": 14,
    "start_time": "2023-08-02T12:13:45.430Z"
   },
   {
    "duration": 181,
    "start_time": "2023-08-02T12:13:45.446Z"
   },
   {
    "duration": 4,
    "start_time": "2023-08-02T12:13:45.630Z"
   },
   {
    "duration": 192,
    "start_time": "2023-08-02T12:13:45.635Z"
   },
   {
    "duration": 51,
    "start_time": "2023-08-02T12:13:45.829Z"
   },
   {
    "duration": 56,
    "start_time": "2023-08-02T12:13:45.883Z"
   },
   {
    "duration": 385,
    "start_time": "2023-08-02T12:13:45.941Z"
   },
   {
    "duration": 205,
    "start_time": "2023-08-02T12:13:46.328Z"
   },
   {
    "duration": 8,
    "start_time": "2023-08-02T12:13:46.535Z"
   },
   {
    "duration": 25,
    "start_time": "2023-08-02T12:13:46.545Z"
   },
   {
    "duration": 100,
    "start_time": "2023-08-02T12:13:46.572Z"
   },
   {
    "duration": 85,
    "start_time": "2023-08-02T12:13:46.674Z"
   },
   {
    "duration": 56,
    "start_time": "2023-08-02T12:13:46.761Z"
   },
   {
    "duration": 75,
    "start_time": "2023-08-02T12:13:46.819Z"
   },
   {
    "duration": 49,
    "start_time": "2023-08-02T12:13:46.896Z"
   },
   {
    "duration": 1344,
    "start_time": "2023-08-03T08:32:43.579Z"
   },
   {
    "duration": 202,
    "start_time": "2023-08-03T08:32:54.713Z"
   },
   {
    "duration": 0,
    "start_time": "2023-08-03T08:32:54.918Z"
   },
   {
    "duration": 0,
    "start_time": "2023-08-03T08:32:54.919Z"
   },
   {
    "duration": 0,
    "start_time": "2023-08-03T08:32:54.920Z"
   },
   {
    "duration": 0,
    "start_time": "2023-08-03T08:32:54.921Z"
   },
   {
    "duration": 0,
    "start_time": "2023-08-03T08:32:54.921Z"
   },
   {
    "duration": 0,
    "start_time": "2023-08-03T08:32:54.922Z"
   },
   {
    "duration": 0,
    "start_time": "2023-08-03T08:32:54.923Z"
   },
   {
    "duration": 0,
    "start_time": "2023-08-03T08:32:54.923Z"
   },
   {
    "duration": 0,
    "start_time": "2023-08-03T08:32:54.924Z"
   },
   {
    "duration": 0,
    "start_time": "2023-08-03T08:32:54.925Z"
   },
   {
    "duration": 0,
    "start_time": "2023-08-03T08:32:54.926Z"
   },
   {
    "duration": 0,
    "start_time": "2023-08-03T08:32:54.927Z"
   },
   {
    "duration": 0,
    "start_time": "2023-08-03T08:32:54.927Z"
   },
   {
    "duration": 0,
    "start_time": "2023-08-03T08:32:54.929Z"
   },
   {
    "duration": 0,
    "start_time": "2023-08-03T08:32:54.930Z"
   },
   {
    "duration": 0,
    "start_time": "2023-08-03T08:32:54.931Z"
   },
   {
    "duration": 0,
    "start_time": "2023-08-03T08:32:54.932Z"
   },
   {
    "duration": 0,
    "start_time": "2023-08-03T08:32:54.933Z"
   },
   {
    "duration": 0,
    "start_time": "2023-08-03T08:32:54.934Z"
   },
   {
    "duration": 0,
    "start_time": "2023-08-03T08:32:54.935Z"
   },
   {
    "duration": 0,
    "start_time": "2023-08-03T08:32:54.936Z"
   },
   {
    "duration": 0,
    "start_time": "2023-08-03T08:32:54.937Z"
   },
   {
    "duration": 0,
    "start_time": "2023-08-03T08:32:54.938Z"
   },
   {
    "duration": 0,
    "start_time": "2023-08-03T08:32:54.939Z"
   },
   {
    "duration": 0,
    "start_time": "2023-08-03T08:32:54.939Z"
   },
   {
    "duration": 0,
    "start_time": "2023-08-03T08:32:54.940Z"
   },
   {
    "duration": 0,
    "start_time": "2023-08-03T08:32:54.941Z"
   },
   {
    "duration": 0,
    "start_time": "2023-08-03T08:32:54.942Z"
   },
   {
    "duration": 0,
    "start_time": "2023-08-03T08:32:54.943Z"
   },
   {
    "duration": 0,
    "start_time": "2023-08-03T08:32:54.944Z"
   },
   {
    "duration": 0,
    "start_time": "2023-08-03T08:32:54.945Z"
   },
   {
    "duration": 0,
    "start_time": "2023-08-03T08:32:54.947Z"
   },
   {
    "duration": 0,
    "start_time": "2023-08-03T08:32:54.948Z"
   },
   {
    "duration": 0,
    "start_time": "2023-08-03T08:32:54.949Z"
   },
   {
    "duration": 0,
    "start_time": "2023-08-03T08:32:54.951Z"
   },
   {
    "duration": 0,
    "start_time": "2023-08-03T08:32:54.952Z"
   },
   {
    "duration": 0,
    "start_time": "2023-08-03T08:32:55.013Z"
   },
   {
    "duration": 158,
    "start_time": "2023-08-03T08:34:03.339Z"
   },
   {
    "duration": 96,
    "start_time": "2023-08-03T08:34:09.320Z"
   },
   {
    "duration": 122,
    "start_time": "2023-08-03T08:36:48.597Z"
   },
   {
    "duration": 153,
    "start_time": "2023-08-03T08:37:16.967Z"
   },
   {
    "duration": 48,
    "start_time": "2023-08-03T08:51:45.272Z"
   },
   {
    "duration": 1227,
    "start_time": "2023-08-03T08:51:52.869Z"
   },
   {
    "duration": 265,
    "start_time": "2023-08-03T08:51:54.099Z"
   },
   {
    "duration": 12,
    "start_time": "2023-08-03T08:51:54.366Z"
   },
   {
    "duration": 4,
    "start_time": "2023-08-03T08:51:54.379Z"
   },
   {
    "duration": 34,
    "start_time": "2023-08-03T08:51:54.385Z"
   },
   {
    "duration": 31,
    "start_time": "2023-08-03T08:51:54.421Z"
   },
   {
    "duration": 15,
    "start_time": "2023-08-03T08:51:54.454Z"
   },
   {
    "duration": 28,
    "start_time": "2023-08-03T08:51:54.470Z"
   },
   {
    "duration": 29,
    "start_time": "2023-08-03T08:51:54.499Z"
   },
   {
    "duration": 22,
    "start_time": "2023-08-03T08:51:54.529Z"
   },
   {
    "duration": 17,
    "start_time": "2023-08-03T08:51:54.553Z"
   },
   {
    "duration": 20,
    "start_time": "2023-08-03T08:51:54.571Z"
   },
   {
    "duration": 28,
    "start_time": "2023-08-03T08:51:54.593Z"
   },
   {
    "duration": 150,
    "start_time": "2023-08-03T08:51:54.624Z"
   },
   {
    "duration": 117,
    "start_time": "2023-08-03T08:51:54.776Z"
   },
   {
    "duration": 19,
    "start_time": "2023-08-03T08:51:54.899Z"
   },
   {
    "duration": 12,
    "start_time": "2023-08-03T08:51:54.920Z"
   },
   {
    "duration": 234,
    "start_time": "2023-08-03T08:51:54.934Z"
   },
   {
    "duration": 165,
    "start_time": "2023-08-03T08:51:55.169Z"
   },
   {
    "duration": 350,
    "start_time": "2023-08-03T08:51:55.336Z"
   },
   {
    "duration": 181,
    "start_time": "2023-08-03T08:51:55.688Z"
   },
   {
    "duration": 352,
    "start_time": "2023-08-03T08:51:55.870Z"
   },
   {
    "duration": 14,
    "start_time": "2023-08-03T08:51:56.224Z"
   },
   {
    "duration": 122,
    "start_time": "2023-08-03T08:51:56.240Z"
   },
   {
    "duration": 4,
    "start_time": "2023-08-03T08:51:56.363Z"
   },
   {
    "duration": 130,
    "start_time": "2023-08-03T08:51:56.368Z"
   },
   {
    "duration": 11,
    "start_time": "2023-08-03T08:51:56.499Z"
   },
   {
    "duration": 18,
    "start_time": "2023-08-03T08:51:56.513Z"
   },
   {
    "duration": 203,
    "start_time": "2023-08-03T08:51:56.532Z"
   },
   {
    "duration": 146,
    "start_time": "2023-08-03T08:51:56.737Z"
   },
   {
    "duration": 39,
    "start_time": "2023-08-03T08:51:56.885Z"
   },
   {
    "duration": 11,
    "start_time": "2023-08-03T08:51:56.925Z"
   },
   {
    "duration": 24,
    "start_time": "2023-08-03T08:51:56.937Z"
   },
   {
    "duration": 9,
    "start_time": "2023-08-03T08:51:56.963Z"
   },
   {
    "duration": 16,
    "start_time": "2023-08-03T08:51:56.973Z"
   },
   {
    "duration": 55,
    "start_time": "2023-08-03T08:51:56.991Z"
   },
   {
    "duration": 8,
    "start_time": "2023-08-03T08:51:57.047Z"
   },
   {
    "duration": 12,
    "start_time": "2023-08-03T08:52:32.215Z"
   },
   {
    "duration": 14,
    "start_time": "2023-08-03T08:52:48.393Z"
   },
   {
    "duration": 12,
    "start_time": "2023-08-03T08:53:01.768Z"
   },
   {
    "duration": 12,
    "start_time": "2023-08-03T08:53:25.951Z"
   },
   {
    "duration": 12,
    "start_time": "2023-08-03T08:56:32.272Z"
   },
   {
    "duration": 1055,
    "start_time": "2023-08-03T08:56:40.531Z"
   },
   {
    "duration": 143,
    "start_time": "2023-08-03T08:56:41.588Z"
   },
   {
    "duration": 10,
    "start_time": "2023-08-03T08:56:41.733Z"
   },
   {
    "duration": 3,
    "start_time": "2023-08-03T08:56:41.744Z"
   },
   {
    "duration": 12,
    "start_time": "2023-08-03T08:56:41.749Z"
   },
   {
    "duration": 10,
    "start_time": "2023-08-03T08:56:41.763Z"
   },
   {
    "duration": 15,
    "start_time": "2023-08-03T08:56:41.775Z"
   },
   {
    "duration": 25,
    "start_time": "2023-08-03T08:56:41.791Z"
   },
   {
    "duration": 15,
    "start_time": "2023-08-03T08:56:41.817Z"
   },
   {
    "duration": 12,
    "start_time": "2023-08-03T08:56:41.833Z"
   },
   {
    "duration": 11,
    "start_time": "2023-08-03T08:56:41.846Z"
   },
   {
    "duration": 17,
    "start_time": "2023-08-03T08:56:41.858Z"
   },
   {
    "duration": 12,
    "start_time": "2023-08-03T08:56:41.876Z"
   },
   {
    "duration": 155,
    "start_time": "2023-08-03T08:56:41.891Z"
   },
   {
    "duration": 112,
    "start_time": "2023-08-03T08:56:42.047Z"
   },
   {
    "duration": 9,
    "start_time": "2023-08-03T08:56:42.160Z"
   },
   {
    "duration": 9,
    "start_time": "2023-08-03T08:56:42.170Z"
   },
   {
    "duration": 255,
    "start_time": "2023-08-03T08:56:42.180Z"
   },
   {
    "duration": 154,
    "start_time": "2023-08-03T08:56:42.437Z"
   },
   {
    "duration": 275,
    "start_time": "2023-08-03T08:56:42.592Z"
   },
   {
    "duration": 182,
    "start_time": "2023-08-03T08:56:42.869Z"
   },
   {
    "duration": 272,
    "start_time": "2023-08-03T08:56:43.052Z"
   },
   {
    "duration": 12,
    "start_time": "2023-08-03T08:56:43.326Z"
   },
   {
    "duration": 122,
    "start_time": "2023-08-03T08:56:43.339Z"
   },
   {
    "duration": 4,
    "start_time": "2023-08-03T08:56:43.462Z"
   },
   {
    "duration": 146,
    "start_time": "2023-08-03T08:56:43.468Z"
   },
   {
    "duration": 8,
    "start_time": "2023-08-03T08:56:43.616Z"
   },
   {
    "duration": 13,
    "start_time": "2023-08-03T08:56:43.625Z"
   },
   {
    "duration": 211,
    "start_time": "2023-08-03T08:56:43.639Z"
   },
   {
    "duration": 137,
    "start_time": "2023-08-03T08:56:43.852Z"
   },
   {
    "duration": 5,
    "start_time": "2023-08-03T08:56:43.991Z"
   },
   {
    "duration": 27,
    "start_time": "2023-08-03T08:56:43.999Z"
   },
   {
    "duration": 26,
    "start_time": "2023-08-03T08:56:44.028Z"
   },
   {
    "duration": 9,
    "start_time": "2023-08-03T08:56:44.056Z"
   },
   {
    "duration": 9,
    "start_time": "2023-08-03T08:56:44.066Z"
   },
   {
    "duration": 48,
    "start_time": "2023-08-03T08:56:44.076Z"
   },
   {
    "duration": 9,
    "start_time": "2023-08-03T08:56:44.125Z"
   },
   {
    "duration": 120,
    "start_time": "2023-08-03T08:58:09.219Z"
   },
   {
    "duration": 11,
    "start_time": "2023-08-03T09:00:55.572Z"
   },
   {
    "duration": 1086,
    "start_time": "2023-08-03T09:01:05.091Z"
   },
   {
    "duration": 126,
    "start_time": "2023-08-03T09:01:06.180Z"
   },
   {
    "duration": 10,
    "start_time": "2023-08-03T09:01:06.308Z"
   },
   {
    "duration": 13,
    "start_time": "2023-08-03T09:01:06.319Z"
   },
   {
    "duration": 39,
    "start_time": "2023-08-03T09:01:06.334Z"
   },
   {
    "duration": 28,
    "start_time": "2023-08-03T09:01:06.375Z"
   },
   {
    "duration": 22,
    "start_time": "2023-08-03T09:01:06.406Z"
   },
   {
    "duration": 36,
    "start_time": "2023-08-03T09:01:06.430Z"
   },
   {
    "duration": 14,
    "start_time": "2023-08-03T09:01:06.468Z"
   },
   {
    "duration": 22,
    "start_time": "2023-08-03T09:01:06.483Z"
   },
   {
    "duration": 22,
    "start_time": "2023-08-03T09:01:06.507Z"
   },
   {
    "duration": 13,
    "start_time": "2023-08-03T09:01:06.531Z"
   },
   {
    "duration": 16,
    "start_time": "2023-08-03T09:01:06.545Z"
   },
   {
    "duration": 168,
    "start_time": "2023-08-03T09:01:06.564Z"
   },
   {
    "duration": 113,
    "start_time": "2023-08-03T09:01:06.733Z"
   },
   {
    "duration": 9,
    "start_time": "2023-08-03T09:01:06.847Z"
   },
   {
    "duration": 10,
    "start_time": "2023-08-03T09:01:06.858Z"
   },
   {
    "duration": 247,
    "start_time": "2023-08-03T09:01:06.870Z"
   },
   {
    "duration": 162,
    "start_time": "2023-08-03T09:01:07.119Z"
   },
   {
    "duration": 281,
    "start_time": "2023-08-03T09:01:07.283Z"
   },
   {
    "duration": 175,
    "start_time": "2023-08-03T09:01:07.565Z"
   },
   {
    "duration": 259,
    "start_time": "2023-08-03T09:01:07.742Z"
   },
   {
    "duration": 11,
    "start_time": "2023-08-03T09:01:08.003Z"
   },
   {
    "duration": 117,
    "start_time": "2023-08-03T09:01:08.016Z"
   },
   {
    "duration": 6,
    "start_time": "2023-08-03T09:01:08.134Z"
   },
   {
    "duration": 137,
    "start_time": "2023-08-03T09:01:08.142Z"
   },
   {
    "duration": 6,
    "start_time": "2023-08-03T09:01:08.282Z"
   },
   {
    "duration": 13,
    "start_time": "2023-08-03T09:01:08.289Z"
   },
   {
    "duration": 220,
    "start_time": "2023-08-03T09:01:08.304Z"
   },
   {
    "duration": 248,
    "start_time": "2023-08-03T09:01:08.526Z"
   },
   {
    "duration": 6,
    "start_time": "2023-08-03T09:01:08.776Z"
   },
   {
    "duration": 8,
    "start_time": "2023-08-03T09:01:08.783Z"
   },
   {
    "duration": 24,
    "start_time": "2023-08-03T09:01:08.792Z"
   },
   {
    "duration": 8,
    "start_time": "2023-08-03T09:01:08.817Z"
   },
   {
    "duration": 16,
    "start_time": "2023-08-03T09:01:08.827Z"
   },
   {
    "duration": 28,
    "start_time": "2023-08-03T09:01:08.845Z"
   },
   {
    "duration": 8,
    "start_time": "2023-08-03T09:01:08.875Z"
   },
   {
    "duration": 9,
    "start_time": "2023-08-03T09:01:44.210Z"
   },
   {
    "duration": 10,
    "start_time": "2023-08-03T09:01:50.207Z"
   },
   {
    "duration": 1455,
    "start_time": "2023-08-03T09:01:59.599Z"
   },
   {
    "duration": 132,
    "start_time": "2023-08-03T09:02:01.056Z"
   },
   {
    "duration": 13,
    "start_time": "2023-08-03T09:02:01.189Z"
   },
   {
    "duration": 45,
    "start_time": "2023-08-03T09:02:01.204Z"
   },
   {
    "duration": 73,
    "start_time": "2023-08-03T09:02:01.250Z"
   },
   {
    "duration": 35,
    "start_time": "2023-08-03T09:02:01.325Z"
   },
   {
    "duration": 38,
    "start_time": "2023-08-03T09:02:01.362Z"
   },
   {
    "duration": 54,
    "start_time": "2023-08-03T09:02:01.402Z"
   },
   {
    "duration": 63,
    "start_time": "2023-08-03T09:02:01.458Z"
   },
   {
    "duration": 59,
    "start_time": "2023-08-03T09:02:01.523Z"
   },
   {
    "duration": 55,
    "start_time": "2023-08-03T09:02:01.584Z"
   },
   {
    "duration": 56,
    "start_time": "2023-08-03T09:02:01.640Z"
   },
   {
    "duration": 31,
    "start_time": "2023-08-03T09:02:01.698Z"
   },
   {
    "duration": 194,
    "start_time": "2023-08-03T09:02:01.731Z"
   },
   {
    "duration": 125,
    "start_time": "2023-08-03T09:02:01.926Z"
   },
   {
    "duration": 11,
    "start_time": "2023-08-03T09:02:02.052Z"
   },
   {
    "duration": 44,
    "start_time": "2023-08-03T09:02:02.064Z"
   },
   {
    "duration": 283,
    "start_time": "2023-08-03T09:02:02.110Z"
   },
   {
    "duration": 169,
    "start_time": "2023-08-03T09:02:02.395Z"
   },
   {
    "duration": 311,
    "start_time": "2023-08-03T09:02:02.565Z"
   },
   {
    "duration": 185,
    "start_time": "2023-08-03T09:02:02.878Z"
   },
   {
    "duration": 334,
    "start_time": "2023-08-03T09:02:03.065Z"
   },
   {
    "duration": 10,
    "start_time": "2023-08-03T09:02:03.401Z"
   },
   {
    "duration": 140,
    "start_time": "2023-08-03T09:02:03.412Z"
   },
   {
    "duration": 4,
    "start_time": "2023-08-03T09:02:03.554Z"
   },
   {
    "duration": 133,
    "start_time": "2023-08-03T09:02:03.559Z"
   },
   {
    "duration": 10,
    "start_time": "2023-08-03T09:02:03.696Z"
   },
   {
    "duration": 22,
    "start_time": "2023-08-03T09:02:03.707Z"
   },
   {
    "duration": 213,
    "start_time": "2023-08-03T09:02:03.730Z"
   },
   {
    "duration": 133,
    "start_time": "2023-08-03T09:02:03.944Z"
   },
   {
    "duration": 6,
    "start_time": "2023-08-03T09:02:04.079Z"
   },
   {
    "duration": 18,
    "start_time": "2023-08-03T09:02:04.099Z"
   },
   {
    "duration": 43,
    "start_time": "2023-08-03T09:02:04.118Z"
   },
   {
    "duration": 18,
    "start_time": "2023-08-03T09:02:04.163Z"
   },
   {
    "duration": 16,
    "start_time": "2023-08-03T09:02:04.182Z"
   },
   {
    "duration": 57,
    "start_time": "2023-08-03T09:02:04.199Z"
   },
   {
    "duration": 25,
    "start_time": "2023-08-03T09:02:04.257Z"
   },
   {
    "duration": 5,
    "start_time": "2023-08-03T09:13:10.294Z"
   },
   {
    "duration": 6,
    "start_time": "2023-08-03T09:13:46.918Z"
   },
   {
    "duration": 191,
    "start_time": "2023-08-03T09:18:11.195Z"
   },
   {
    "duration": 278,
    "start_time": "2023-08-03T09:18:26.278Z"
   },
   {
    "duration": 192,
    "start_time": "2023-08-03T09:19:22.035Z"
   },
   {
    "duration": 181,
    "start_time": "2023-08-03T09:20:05.591Z"
   },
   {
    "duration": 59,
    "start_time": "2023-08-03T09:25:35.573Z"
   },
   {
    "duration": 103,
    "start_time": "2023-08-03T09:26:13.211Z"
   },
   {
    "duration": 6,
    "start_time": "2023-08-03T09:26:21.882Z"
   },
   {
    "duration": 970,
    "start_time": "2023-08-03T09:26:29.156Z"
   },
   {
    "duration": 137,
    "start_time": "2023-08-03T09:26:30.129Z"
   },
   {
    "duration": 280,
    "start_time": "2023-08-03T09:26:30.267Z"
   },
   {
    "duration": 128,
    "start_time": "2023-08-03T09:26:30.549Z"
   },
   {
    "duration": 69,
    "start_time": "2023-08-03T09:26:30.680Z"
   },
   {
    "duration": 76,
    "start_time": "2023-08-03T09:26:30.750Z"
   },
   {
    "duration": 85,
    "start_time": "2023-08-03T09:26:30.828Z"
   },
   {
    "duration": 145,
    "start_time": "2023-08-03T09:26:30.914Z"
   },
   {
    "duration": 66,
    "start_time": "2023-08-03T09:26:31.060Z"
   },
   {
    "duration": 60,
    "start_time": "2023-08-03T09:26:31.128Z"
   },
   {
    "duration": 78,
    "start_time": "2023-08-03T09:26:31.189Z"
   },
   {
    "duration": 65,
    "start_time": "2023-08-03T09:26:31.269Z"
   },
   {
    "duration": 41,
    "start_time": "2023-08-03T09:26:31.336Z"
   },
   {
    "duration": 79,
    "start_time": "2023-08-03T09:26:31.380Z"
   },
   {
    "duration": 59,
    "start_time": "2023-08-03T09:26:31.461Z"
   },
   {
    "duration": 219,
    "start_time": "2023-08-03T09:26:31.521Z"
   },
   {
    "duration": 116,
    "start_time": "2023-08-03T09:26:31.742Z"
   },
   {
    "duration": 9,
    "start_time": "2023-08-03T09:26:31.860Z"
   },
   {
    "duration": 50,
    "start_time": "2023-08-03T09:26:31.871Z"
   },
   {
    "duration": 278,
    "start_time": "2023-08-03T09:26:31.923Z"
   },
   {
    "duration": 195,
    "start_time": "2023-08-03T09:26:32.202Z"
   },
   {
    "duration": 279,
    "start_time": "2023-08-03T09:26:32.405Z"
   },
   {
    "duration": 180,
    "start_time": "2023-08-03T09:26:32.686Z"
   },
   {
    "duration": 297,
    "start_time": "2023-08-03T09:26:32.868Z"
   },
   {
    "duration": 10,
    "start_time": "2023-08-03T09:26:33.166Z"
   },
   {
    "duration": 110,
    "start_time": "2023-08-03T09:26:33.178Z"
   },
   {
    "duration": 18,
    "start_time": "2023-08-03T09:26:33.289Z"
   },
   {
    "duration": 117,
    "start_time": "2023-08-03T09:26:33.311Z"
   },
   {
    "duration": 7,
    "start_time": "2023-08-03T09:26:33.429Z"
   },
   {
    "duration": 8,
    "start_time": "2023-08-03T09:26:33.437Z"
   },
   {
    "duration": 212,
    "start_time": "2023-08-03T09:26:33.446Z"
   },
   {
    "duration": 153,
    "start_time": "2023-08-03T09:26:33.660Z"
   },
   {
    "duration": 6,
    "start_time": "2023-08-03T09:26:33.818Z"
   },
   {
    "duration": 10,
    "start_time": "2023-08-03T09:26:33.825Z"
   },
   {
    "duration": 25,
    "start_time": "2023-08-03T09:26:33.836Z"
   },
   {
    "duration": 9,
    "start_time": "2023-08-03T09:26:33.863Z"
   },
   {
    "duration": 10,
    "start_time": "2023-08-03T09:26:33.874Z"
   },
   {
    "duration": 26,
    "start_time": "2023-08-03T09:26:33.905Z"
   },
   {
    "duration": 9,
    "start_time": "2023-08-03T09:26:33.932Z"
   },
   {
    "duration": 169,
    "start_time": "2023-08-03T09:27:36.876Z"
   },
   {
    "duration": 252,
    "start_time": "2023-08-03T09:27:50.219Z"
   },
   {
    "duration": 176,
    "start_time": "2023-08-03T09:28:04.416Z"
   },
   {
    "duration": 187,
    "start_time": "2023-08-03T09:28:21.280Z"
   },
   {
    "duration": 333,
    "start_time": "2023-08-03T09:30:05.682Z"
   },
   {
    "duration": 259,
    "start_time": "2023-08-03T09:30:16.753Z"
   },
   {
    "duration": 299,
    "start_time": "2023-08-03T09:30:36.623Z"
   },
   {
    "duration": 184,
    "start_time": "2023-08-03T09:30:48.364Z"
   },
   {
    "duration": 197,
    "start_time": "2023-08-03T09:30:55.891Z"
   },
   {
    "duration": 311,
    "start_time": "2023-08-03T09:31:13.002Z"
   },
   {
    "duration": 202,
    "start_time": "2023-08-03T09:31:52.511Z"
   },
   {
    "duration": 203,
    "start_time": "2023-08-03T09:32:33.719Z"
   },
   {
    "duration": 416,
    "start_time": "2023-08-03T09:33:26.076Z"
   },
   {
    "duration": 256,
    "start_time": "2023-08-03T09:33:44.532Z"
   },
   {
    "duration": 1133,
    "start_time": "2023-08-03T09:51:47.993Z"
   },
   {
    "duration": 120,
    "start_time": "2023-08-03T09:51:49.128Z"
   },
   {
    "duration": 12,
    "start_time": "2023-08-03T09:51:49.249Z"
   },
   {
    "duration": 12,
    "start_time": "2023-08-03T09:51:49.263Z"
   },
   {
    "duration": 18,
    "start_time": "2023-08-03T09:51:49.277Z"
   },
   {
    "duration": 18,
    "start_time": "2023-08-03T09:51:49.297Z"
   },
   {
    "duration": 21,
    "start_time": "2023-08-03T09:51:49.316Z"
   },
   {
    "duration": 24,
    "start_time": "2023-08-03T09:51:49.338Z"
   },
   {
    "duration": 6,
    "start_time": "2023-08-03T09:51:49.363Z"
   },
   {
    "duration": 9,
    "start_time": "2023-08-03T09:51:49.370Z"
   },
   {
    "duration": 15,
    "start_time": "2023-08-03T09:51:49.381Z"
   },
   {
    "duration": 40,
    "start_time": "2023-08-03T09:51:49.399Z"
   },
   {
    "duration": 10,
    "start_time": "2023-08-03T09:51:49.441Z"
   },
   {
    "duration": 10,
    "start_time": "2023-08-03T09:51:49.455Z"
   },
   {
    "duration": 6,
    "start_time": "2023-08-03T09:51:49.466Z"
   },
   {
    "duration": 177,
    "start_time": "2023-08-03T09:51:49.474Z"
   },
   {
    "duration": 159,
    "start_time": "2023-08-03T09:51:49.653Z"
   },
   {
    "duration": 11,
    "start_time": "2023-08-03T09:51:49.813Z"
   },
   {
    "duration": 9,
    "start_time": "2023-08-03T09:51:49.826Z"
   },
   {
    "duration": 276,
    "start_time": "2023-08-03T09:51:49.837Z"
   },
   {
    "duration": 200,
    "start_time": "2023-08-03T09:51:50.115Z"
   },
   {
    "duration": 299,
    "start_time": "2023-08-03T09:51:50.317Z"
   },
   {
    "duration": 232,
    "start_time": "2023-08-03T09:51:50.618Z"
   },
   {
    "duration": 281,
    "start_time": "2023-08-03T09:51:50.851Z"
   },
   {
    "duration": 12,
    "start_time": "2023-08-03T09:51:51.134Z"
   },
   {
    "duration": 129,
    "start_time": "2023-08-03T09:51:51.147Z"
   },
   {
    "duration": 4,
    "start_time": "2023-08-03T09:51:51.278Z"
   },
   {
    "duration": 155,
    "start_time": "2023-08-03T09:51:51.284Z"
   },
   {
    "duration": 9,
    "start_time": "2023-08-03T09:51:51.440Z"
   },
   {
    "duration": 10,
    "start_time": "2023-08-03T09:51:51.451Z"
   },
   {
    "duration": 248,
    "start_time": "2023-08-03T09:51:51.464Z"
   },
   {
    "duration": 199,
    "start_time": "2023-08-03T09:51:51.714Z"
   },
   {
    "duration": 7,
    "start_time": "2023-08-03T09:51:51.915Z"
   },
   {
    "duration": 28,
    "start_time": "2023-08-03T09:51:51.924Z"
   },
   {
    "duration": 30,
    "start_time": "2023-08-03T09:51:51.954Z"
   },
   {
    "duration": 9,
    "start_time": "2023-08-03T09:51:51.985Z"
   },
   {
    "duration": 15,
    "start_time": "2023-08-03T09:51:51.995Z"
   },
   {
    "duration": 28,
    "start_time": "2023-08-03T09:51:52.012Z"
   },
   {
    "duration": 9,
    "start_time": "2023-08-03T09:51:52.042Z"
   },
   {
    "duration": 1050,
    "start_time": "2023-08-03T11:32:26.513Z"
   },
   {
    "duration": 172,
    "start_time": "2023-08-03T11:32:27.565Z"
   },
   {
    "duration": 16,
    "start_time": "2023-08-03T11:32:27.739Z"
   },
   {
    "duration": 3,
    "start_time": "2023-08-03T11:32:27.758Z"
   },
   {
    "duration": 19,
    "start_time": "2023-08-03T11:32:27.763Z"
   },
   {
    "duration": 29,
    "start_time": "2023-08-03T11:32:27.784Z"
   },
   {
    "duration": 34,
    "start_time": "2023-08-03T11:32:27.815Z"
   },
   {
    "duration": 18,
    "start_time": "2023-08-03T11:32:27.851Z"
   },
   {
    "duration": 18,
    "start_time": "2023-08-03T11:32:27.870Z"
   },
   {
    "duration": 24,
    "start_time": "2023-08-03T11:32:27.890Z"
   },
   {
    "duration": 16,
    "start_time": "2023-08-03T11:32:27.917Z"
   },
   {
    "duration": 14,
    "start_time": "2023-08-03T11:32:27.935Z"
   },
   {
    "duration": 7,
    "start_time": "2023-08-03T11:32:27.951Z"
   },
   {
    "duration": 7,
    "start_time": "2023-08-03T11:32:27.960Z"
   },
   {
    "duration": 8,
    "start_time": "2023-08-03T11:32:27.969Z"
   },
   {
    "duration": 173,
    "start_time": "2023-08-03T11:32:27.979Z"
   },
   {
    "duration": 111,
    "start_time": "2023-08-03T11:32:28.153Z"
   },
   {
    "duration": 10,
    "start_time": "2023-08-03T11:32:28.265Z"
   },
   {
    "duration": 11,
    "start_time": "2023-08-03T11:32:28.276Z"
   },
   {
    "duration": 264,
    "start_time": "2023-08-03T11:32:28.288Z"
   },
   {
    "duration": 192,
    "start_time": "2023-08-03T11:32:28.554Z"
   },
   {
    "duration": 272,
    "start_time": "2023-08-03T11:32:28.747Z"
   },
   {
    "duration": 199,
    "start_time": "2023-08-03T11:32:29.021Z"
   },
   {
    "duration": 299,
    "start_time": "2023-08-03T11:32:29.222Z"
   },
   {
    "duration": 14,
    "start_time": "2023-08-03T11:32:29.522Z"
   },
   {
    "duration": 119,
    "start_time": "2023-08-03T11:32:29.538Z"
   },
   {
    "duration": 4,
    "start_time": "2023-08-03T11:32:29.659Z"
   },
   {
    "duration": 129,
    "start_time": "2023-08-03T11:32:29.666Z"
   },
   {
    "duration": 14,
    "start_time": "2023-08-03T11:32:29.809Z"
   },
   {
    "duration": 5,
    "start_time": "2023-08-03T11:32:29.825Z"
   },
   {
    "duration": 236,
    "start_time": "2023-08-03T11:32:29.832Z"
   },
   {
    "duration": 137,
    "start_time": "2023-08-03T11:32:30.070Z"
   },
   {
    "duration": 7,
    "start_time": "2023-08-03T11:32:30.208Z"
   },
   {
    "duration": 55,
    "start_time": "2023-08-03T11:32:30.217Z"
   },
   {
    "duration": 66,
    "start_time": "2023-08-03T11:32:30.274Z"
   },
   {
    "duration": 10,
    "start_time": "2023-08-03T11:32:30.343Z"
   },
   {
    "duration": 40,
    "start_time": "2023-08-03T11:32:30.355Z"
   },
   {
    "duration": 119,
    "start_time": "2023-08-03T11:32:30.397Z"
   },
   {
    "duration": 21,
    "start_time": "2023-08-03T11:32:30.519Z"
   },
   {
    "duration": 1258,
    "start_time": "2023-08-04T07:16:17.067Z"
   },
   {
    "duration": 283,
    "start_time": "2023-08-04T07:16:18.327Z"
   },
   {
    "duration": 13,
    "start_time": "2023-08-04T07:16:18.612Z"
   },
   {
    "duration": 3,
    "start_time": "2023-08-04T07:16:18.627Z"
   },
   {
    "duration": 16,
    "start_time": "2023-08-04T07:16:18.632Z"
   },
   {
    "duration": 14,
    "start_time": "2023-08-04T07:16:18.649Z"
   },
   {
    "duration": 12,
    "start_time": "2023-08-04T07:16:18.665Z"
   },
   {
    "duration": 35,
    "start_time": "2023-08-04T07:16:18.679Z"
   },
   {
    "duration": 9,
    "start_time": "2023-08-04T07:16:18.716Z"
   },
   {
    "duration": 40,
    "start_time": "2023-08-04T07:16:18.727Z"
   },
   {
    "duration": 22,
    "start_time": "2023-08-04T07:16:18.768Z"
   },
   {
    "duration": 41,
    "start_time": "2023-08-04T07:16:18.792Z"
   },
   {
    "duration": 12,
    "start_time": "2023-08-04T07:16:18.834Z"
   },
   {
    "duration": 24,
    "start_time": "2023-08-04T07:16:18.850Z"
   },
   {
    "duration": 8,
    "start_time": "2023-08-04T07:16:18.876Z"
   },
   {
    "duration": 192,
    "start_time": "2023-08-04T07:16:18.886Z"
   },
   {
    "duration": 141,
    "start_time": "2023-08-04T07:16:19.080Z"
   },
   {
    "duration": 12,
    "start_time": "2023-08-04T07:16:19.223Z"
   },
   {
    "duration": 23,
    "start_time": "2023-08-04T07:16:19.237Z"
   },
   {
    "duration": 263,
    "start_time": "2023-08-04T07:16:19.262Z"
   },
   {
    "duration": 192,
    "start_time": "2023-08-04T07:16:19.527Z"
   },
   {
    "duration": 376,
    "start_time": "2023-08-04T07:16:19.721Z"
   },
   {
    "duration": 243,
    "start_time": "2023-08-04T07:16:20.099Z"
   },
   {
    "duration": 328,
    "start_time": "2023-08-04T07:16:20.344Z"
   },
   {
    "duration": 12,
    "start_time": "2023-08-04T07:16:20.674Z"
   },
   {
    "duration": 141,
    "start_time": "2023-08-04T07:16:20.688Z"
   },
   {
    "duration": 4,
    "start_time": "2023-08-04T07:16:20.832Z"
   },
   {
    "duration": 151,
    "start_time": "2023-08-04T07:16:20.838Z"
   },
   {
    "duration": 10,
    "start_time": "2023-08-04T07:16:20.991Z"
   },
   {
    "duration": 6,
    "start_time": "2023-08-04T07:16:21.003Z"
   },
   {
    "duration": 271,
    "start_time": "2023-08-04T07:16:21.011Z"
   },
   {
    "duration": 143,
    "start_time": "2023-08-04T07:16:21.284Z"
   },
   {
    "duration": 7,
    "start_time": "2023-08-04T07:16:21.429Z"
   },
   {
    "duration": 18,
    "start_time": "2023-08-04T07:16:21.438Z"
   },
   {
    "duration": 25,
    "start_time": "2023-08-04T07:16:21.458Z"
   },
   {
    "duration": 11,
    "start_time": "2023-08-04T07:16:21.485Z"
   },
   {
    "duration": 13,
    "start_time": "2023-08-04T07:16:21.498Z"
   },
   {
    "duration": 57,
    "start_time": "2023-08-04T07:16:21.513Z"
   },
   {
    "duration": 12,
    "start_time": "2023-08-04T07:16:21.572Z"
   },
   {
    "duration": 200,
    "start_time": "2023-08-04T07:16:59.137Z"
   },
   {
    "duration": 284,
    "start_time": "2023-08-04T07:17:14.029Z"
   },
   {
    "duration": 316,
    "start_time": "2023-08-04T07:17:22.246Z"
   },
   {
    "duration": 217,
    "start_time": "2023-08-04T07:17:30.123Z"
   },
   {
    "duration": 287,
    "start_time": "2023-08-04T07:17:37.391Z"
   },
   {
    "duration": 140,
    "start_time": "2023-08-04T07:20:44.588Z"
   },
   {
    "duration": 144,
    "start_time": "2023-08-04T07:21:51.855Z"
   },
   {
    "duration": 1097,
    "start_time": "2023-08-04T07:25:02.706Z"
   },
   {
    "duration": 150,
    "start_time": "2023-08-04T07:25:03.805Z"
   },
   {
    "duration": 11,
    "start_time": "2023-08-04T07:25:03.957Z"
   },
   {
    "duration": 3,
    "start_time": "2023-08-04T07:25:03.970Z"
   },
   {
    "duration": 26,
    "start_time": "2023-08-04T07:25:03.975Z"
   },
   {
    "duration": 14,
    "start_time": "2023-08-04T07:25:04.002Z"
   },
   {
    "duration": 12,
    "start_time": "2023-08-04T07:25:04.017Z"
   },
   {
    "duration": 37,
    "start_time": "2023-08-04T07:25:04.031Z"
   },
   {
    "duration": 6,
    "start_time": "2023-08-04T07:25:04.070Z"
   },
   {
    "duration": 7,
    "start_time": "2023-08-04T07:25:04.077Z"
   },
   {
    "duration": 12,
    "start_time": "2023-08-04T07:25:04.085Z"
   },
   {
    "duration": 14,
    "start_time": "2023-08-04T07:25:04.099Z"
   },
   {
    "duration": 42,
    "start_time": "2023-08-04T07:25:04.115Z"
   },
   {
    "duration": 7,
    "start_time": "2023-08-04T07:25:04.160Z"
   },
   {
    "duration": 14,
    "start_time": "2023-08-04T07:25:04.169Z"
   },
   {
    "duration": 201,
    "start_time": "2023-08-04T07:25:04.185Z"
   },
   {
    "duration": 130,
    "start_time": "2023-08-04T07:25:04.388Z"
   },
   {
    "duration": 10,
    "start_time": "2023-08-04T07:25:04.520Z"
   },
   {
    "duration": 8,
    "start_time": "2023-08-04T07:25:04.531Z"
   },
   {
    "duration": 275,
    "start_time": "2023-08-04T07:25:04.540Z"
   },
   {
    "duration": 206,
    "start_time": "2023-08-04T07:25:04.816Z"
   },
   {
    "duration": 375,
    "start_time": "2023-08-04T07:25:05.023Z"
   },
   {
    "duration": 229,
    "start_time": "2023-08-04T07:25:05.400Z"
   },
   {
    "duration": 331,
    "start_time": "2023-08-04T07:25:05.631Z"
   },
   {
    "duration": 12,
    "start_time": "2023-08-04T07:25:05.964Z"
   },
   {
    "duration": 148,
    "start_time": "2023-08-04T07:25:05.978Z"
   },
   {
    "duration": 4,
    "start_time": "2023-08-04T07:25:06.128Z"
   },
   {
    "duration": 161,
    "start_time": "2023-08-04T07:25:06.133Z"
   },
   {
    "duration": 8,
    "start_time": "2023-08-04T07:25:06.296Z"
   },
   {
    "duration": 8,
    "start_time": "2023-08-04T07:25:06.306Z"
   },
   {
    "duration": 241,
    "start_time": "2023-08-04T07:25:06.316Z"
   },
   {
    "duration": 150,
    "start_time": "2023-08-04T07:25:06.559Z"
   },
   {
    "duration": 7,
    "start_time": "2023-08-04T07:25:06.710Z"
   },
   {
    "duration": 6,
    "start_time": "2023-08-04T07:25:06.718Z"
   },
   {
    "duration": 35,
    "start_time": "2023-08-04T07:25:06.726Z"
   },
   {
    "duration": 8,
    "start_time": "2023-08-04T07:25:06.763Z"
   },
   {
    "duration": 10,
    "start_time": "2023-08-04T07:25:06.772Z"
   },
   {
    "duration": 27,
    "start_time": "2023-08-04T07:25:06.783Z"
   },
   {
    "duration": 9,
    "start_time": "2023-08-04T07:25:06.811Z"
   },
   {
    "duration": 125,
    "start_time": "2023-08-04T09:04:17.693Z"
   },
   {
    "duration": 974,
    "start_time": "2023-10-21T13:16:18.278Z"
   },
   {
    "duration": 224,
    "start_time": "2023-10-21T13:16:19.253Z"
   },
   {
    "duration": 10,
    "start_time": "2023-10-21T13:16:19.478Z"
   },
   {
    "duration": 2,
    "start_time": "2023-10-21T13:16:19.489Z"
   },
   {
    "duration": 12,
    "start_time": "2023-10-21T13:16:19.493Z"
   },
   {
    "duration": 11,
    "start_time": "2023-10-21T13:16:19.506Z"
   },
   {
    "duration": 9,
    "start_time": "2023-10-21T13:16:19.518Z"
   },
   {
    "duration": 18,
    "start_time": "2023-10-21T13:16:19.528Z"
   },
   {
    "duration": 3,
    "start_time": "2023-10-21T13:16:19.548Z"
   },
   {
    "duration": 5,
    "start_time": "2023-10-21T13:16:19.553Z"
   },
   {
    "duration": 9,
    "start_time": "2023-10-21T13:16:19.559Z"
   },
   {
    "duration": 14,
    "start_time": "2023-10-21T13:16:19.570Z"
   },
   {
    "duration": 6,
    "start_time": "2023-10-21T13:16:19.585Z"
   },
   {
    "duration": 5,
    "start_time": "2023-10-21T13:16:19.594Z"
   },
   {
    "duration": 6,
    "start_time": "2023-10-21T13:16:19.600Z"
   },
   {
    "duration": 172,
    "start_time": "2023-10-21T13:16:19.607Z"
   },
   {
    "duration": 110,
    "start_time": "2023-10-21T13:16:19.780Z"
   },
   {
    "duration": 8,
    "start_time": "2023-10-21T13:16:19.892Z"
   },
   {
    "duration": 6,
    "start_time": "2023-10-21T13:16:19.901Z"
   },
   {
    "duration": 248,
    "start_time": "2023-10-21T13:16:19.909Z"
   },
   {
    "duration": 162,
    "start_time": "2023-10-21T13:16:20.159Z"
   },
   {
    "duration": 304,
    "start_time": "2023-10-21T13:16:20.323Z"
   },
   {
    "duration": 176,
    "start_time": "2023-10-21T13:16:20.639Z"
   },
   {
    "duration": 300,
    "start_time": "2023-10-21T13:16:20.816Z"
   },
   {
    "duration": 11,
    "start_time": "2023-10-21T13:16:21.117Z"
   },
   {
    "duration": 110,
    "start_time": "2023-10-21T13:16:21.140Z"
   },
   {
    "duration": 4,
    "start_time": "2023-10-21T13:16:21.251Z"
   },
   {
    "duration": 131,
    "start_time": "2023-10-21T13:16:21.256Z"
   },
   {
    "duration": 7,
    "start_time": "2023-10-21T13:16:21.388Z"
   },
   {
    "duration": 3,
    "start_time": "2023-10-21T13:16:21.397Z"
   },
   {
    "duration": 218,
    "start_time": "2023-10-21T13:16:21.402Z"
   },
   {
    "duration": 138,
    "start_time": "2023-10-21T13:16:21.622Z"
   },
   {
    "duration": 6,
    "start_time": "2023-10-21T13:16:21.761Z"
   },
   {
    "duration": 4,
    "start_time": "2023-10-21T13:16:21.768Z"
   },
   {
    "duration": 20,
    "start_time": "2023-10-21T13:16:21.774Z"
   },
   {
    "duration": 6,
    "start_time": "2023-10-21T13:16:21.795Z"
   },
   {
    "duration": 9,
    "start_time": "2023-10-21T13:16:21.803Z"
   },
   {
    "duration": 47,
    "start_time": "2023-10-21T13:16:21.813Z"
   },
   {
    "duration": 7,
    "start_time": "2023-10-21T13:16:21.861Z"
   },
   {
    "duration": 8,
    "start_time": "2023-10-21T13:16:56.727Z"
   }
  ],
  "kernelspec": {
   "display_name": "Python 3 (ipykernel)",
   "language": "python",
   "name": "python3"
  },
  "language_info": {
   "codemirror_mode": {
    "name": "ipython",
    "version": 3
   },
   "file_extension": ".py",
   "mimetype": "text/x-python",
   "name": "python",
   "nbconvert_exporter": "python",
   "pygments_lexer": "ipython3",
   "version": "3.11.5"
  },
  "toc": {
   "base_numbering": 1,
   "nav_menu": {},
   "number_sections": true,
   "sideBar": true,
   "skip_h1_title": true,
   "title_cell": "Table of Contents",
   "title_sidebar": "Contents",
   "toc_cell": false,
   "toc_position": {},
   "toc_section_display": true,
   "toc_window_display": false
  }
 },
 "nbformat": 4,
 "nbformat_minor": 2
}
